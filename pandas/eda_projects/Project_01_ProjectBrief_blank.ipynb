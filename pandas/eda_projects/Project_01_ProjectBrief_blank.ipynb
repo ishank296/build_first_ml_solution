{
 "cells": [
  {
   "cell_type": "markdown",
   "metadata": {},
   "source": [
    "# Project 1: Explanatory Data Analysis & Data Presentation (Movies Dataset)"
   ]
  },
  {
   "cell_type": "markdown",
   "metadata": {},
   "source": [
    "# Project Brief for Self-Coders"
   ]
  },
  {
   "cell_type": "markdown",
   "metadata": {},
   "source": [
    "Here you´ll have the opportunity to code major parts of Project 1 on your own. If you need any help or inspiration, have a look at the Videos or the Jupyter Notebook with the full code. <br> <br>\n",
    "Keep in mind that it´s all about __getting the right results/conclusions__. It´s not about finding the identical code. Things can be coded in many different ways. Even if you come to the same conclusions, it´s very unlikely that we have the very same code. "
   ]
  },
  {
   "cell_type": "markdown",
   "metadata": {},
   "source": [
    "## Data Import and first Inspection"
   ]
  },
  {
   "cell_type": "markdown",
   "metadata": {},
   "source": [
    "1. __Import__ the movies dataset from the CSV file \"movies_complete.csv\". __Inspect__ the data."
   ]
  },
  {
   "cell_type": "markdown",
   "metadata": {},
   "source": [
    "__Some additional information on Features/Columns__:"
   ]
  },
  {
   "cell_type": "markdown",
   "metadata": {},
   "source": [
    "* **id:** The ID of the movie (clear/unique identifier).\n",
    "* **title:** The Official Title of the movie.\n",
    "* **tagline:** The tagline of the movie.\n",
    "* **release_date:** Theatrical Release Date of the movie.\n",
    "* **genres:** Genres associated with the movie.\n",
    "* **belongs_to_collection:** Gives information on the movie series/franchise the particular film belongs to.\n",
    "* **original_language:** The language in which the movie was originally shot in.\n",
    "* **budget_musd:** The budget of the movie in million dollars.\n",
    "* **revenue_musd:** The total revenue of the movie in million dollars.\n",
    "* **production_companies:** Production companies involved with the making of the movie.\n",
    "* **production_countries:** Countries where the movie was shot/produced in.\n",
    "* **vote_count:** The number of votes by users, as counted by TMDB.\n",
    "* **vote_average:** The average rating of the movie.\n",
    "* **popularity:** The Popularity Score assigned by TMDB.\n",
    "* **runtime:** The runtime of the movie in minutes.\n",
    "* **overview:** A brief blurb of the movie.\n",
    "* **spoken_languages:** Spoken languages in the film.\n",
    "* **poster_path:** The URL of the poster image.\n",
    "* **cast:** (Main) Actors appearing in the movie.\n",
    "* **cast_size:** number of Actors appearing in the movie.\n",
    "* **director:** Director of the movie.\n",
    "* **crew_size:** Size of the film crew (incl. director, excl. actors)."
   ]
  },
  {
   "cell_type": "code",
   "execution_count": 61,
   "metadata": {},
   "outputs": [
    {
     "data": {
      "text/html": [
       "<div>\n",
       "<style scoped>\n",
       "    .dataframe tbody tr th:only-of-type {\n",
       "        vertical-align: middle;\n",
       "    }\n",
       "\n",
       "    .dataframe tbody tr th {\n",
       "        vertical-align: top;\n",
       "    }\n",
       "\n",
       "    .dataframe thead th {\n",
       "        text-align: right;\n",
       "    }\n",
       "</style>\n",
       "<table border=\"1\" class=\"dataframe\">\n",
       "  <thead>\n",
       "    <tr style=\"text-align: right;\">\n",
       "      <th></th>\n",
       "      <th>budget_musd</th>\n",
       "      <th>revenue_musd</th>\n",
       "      <th>vote_count</th>\n",
       "      <th>vote_average</th>\n",
       "      <th>popularity</th>\n",
       "      <th>runtime</th>\n",
       "      <th>cast_size</th>\n",
       "      <th>crew_size</th>\n",
       "    </tr>\n",
       "  </thead>\n",
       "  <tbody>\n",
       "    <tr>\n",
       "      <th>count</th>\n",
       "      <td>8854.000000</td>\n",
       "      <td>7385.000000</td>\n",
       "      <td>44691.000000</td>\n",
       "      <td>42077.000000</td>\n",
       "      <td>44691.000000</td>\n",
       "      <td>43179.000000</td>\n",
       "      <td>44691.000000</td>\n",
       "      <td>44691.000000</td>\n",
       "    </tr>\n",
       "    <tr>\n",
       "      <th>mean</th>\n",
       "      <td>21.669886</td>\n",
       "      <td>68.968649</td>\n",
       "      <td>111.653778</td>\n",
       "      <td>6.003341</td>\n",
       "      <td>2.957460</td>\n",
       "      <td>97.566850</td>\n",
       "      <td>12.479090</td>\n",
       "      <td>10.313643</td>\n",
       "    </tr>\n",
       "    <tr>\n",
       "      <th>std</th>\n",
       "      <td>34.359837</td>\n",
       "      <td>146.608966</td>\n",
       "      <td>495.322313</td>\n",
       "      <td>1.281060</td>\n",
       "      <td>6.040008</td>\n",
       "      <td>34.653409</td>\n",
       "      <td>12.124663</td>\n",
       "      <td>15.892154</td>\n",
       "    </tr>\n",
       "    <tr>\n",
       "      <th>min</th>\n",
       "      <td>0.000001</td>\n",
       "      <td>0.000001</td>\n",
       "      <td>0.000000</td>\n",
       "      <td>0.000000</td>\n",
       "      <td>0.000000</td>\n",
       "      <td>1.000000</td>\n",
       "      <td>0.000000</td>\n",
       "      <td>0.000000</td>\n",
       "    </tr>\n",
       "    <tr>\n",
       "      <th>25%</th>\n",
       "      <td>2.000000</td>\n",
       "      <td>2.405420</td>\n",
       "      <td>3.000000</td>\n",
       "      <td>5.300000</td>\n",
       "      <td>0.402038</td>\n",
       "      <td>86.000000</td>\n",
       "      <td>6.000000</td>\n",
       "      <td>2.000000</td>\n",
       "    </tr>\n",
       "    <tr>\n",
       "      <th>50%</th>\n",
       "      <td>8.200000</td>\n",
       "      <td>16.872671</td>\n",
       "      <td>10.000000</td>\n",
       "      <td>6.100000</td>\n",
       "      <td>1.150055</td>\n",
       "      <td>95.000000</td>\n",
       "      <td>10.000000</td>\n",
       "      <td>6.000000</td>\n",
       "    </tr>\n",
       "    <tr>\n",
       "      <th>75%</th>\n",
       "      <td>25.000000</td>\n",
       "      <td>67.642693</td>\n",
       "      <td>35.000000</td>\n",
       "      <td>6.800000</td>\n",
       "      <td>3.768882</td>\n",
       "      <td>107.000000</td>\n",
       "      <td>15.000000</td>\n",
       "      <td>12.000000</td>\n",
       "    </tr>\n",
       "    <tr>\n",
       "      <th>max</th>\n",
       "      <td>380.000000</td>\n",
       "      <td>2787.965087</td>\n",
       "      <td>14075.000000</td>\n",
       "      <td>10.000000</td>\n",
       "      <td>547.488298</td>\n",
       "      <td>1256.000000</td>\n",
       "      <td>313.000000</td>\n",
       "      <td>435.000000</td>\n",
       "    </tr>\n",
       "  </tbody>\n",
       "</table>\n",
       "</div>"
      ],
      "text/plain": [
       "       budget_musd  revenue_musd    vote_count  vote_average    popularity  \\\n",
       "count  8854.000000   7385.000000  44691.000000  42077.000000  44691.000000   \n",
       "mean     21.669886     68.968649    111.653778      6.003341      2.957460   \n",
       "std      34.359837    146.608966    495.322313      1.281060      6.040008   \n",
       "min       0.000001      0.000001      0.000000      0.000000      0.000000   \n",
       "25%       2.000000      2.405420      3.000000      5.300000      0.402038   \n",
       "50%       8.200000     16.872671     10.000000      6.100000      1.150055   \n",
       "75%      25.000000     67.642693     35.000000      6.800000      3.768882   \n",
       "max     380.000000   2787.965087  14075.000000     10.000000    547.488298   \n",
       "\n",
       "            runtime     cast_size     crew_size  \n",
       "count  43179.000000  44691.000000  44691.000000  \n",
       "mean      97.566850     12.479090     10.313643  \n",
       "std       34.653409     12.124663     15.892154  \n",
       "min        1.000000      0.000000      0.000000  \n",
       "25%       86.000000      6.000000      2.000000  \n",
       "50%       95.000000     10.000000      6.000000  \n",
       "75%      107.000000     15.000000     12.000000  \n",
       "max     1256.000000    313.000000    435.000000  "
      ]
     },
     "execution_count": 61,
     "metadata": {},
     "output_type": "execute_result"
    }
   ],
   "source": [
    "import pandas as pd\n",
    "from IPython.display import HTML\n",
    "movies_data = pd.read_csv(\"../../data/movies_complete.csv\",index_col='id')\n",
    "movies_data.describe()"
   ]
  },
  {
   "cell_type": "code",
   "execution_count": 77,
   "metadata": {},
   "outputs": [
    {
     "data": {
      "text/html": [
       "<table border=\"1\" class=\"dataframe\">\n",
       "  <thead>\n",
       "    <tr style=\"text-align: right;\">\n",
       "      <th></th>\n",
       "      <th></th>\n",
       "      <th>title</th>\n",
       "      <th>revenue_musd</th>\n",
       "    </tr>\n",
       "    <tr>\n",
       "      <th>id</th>\n",
       "      <th></th>\n",
       "      <th></th>\n",
       "      <th></th>\n",
       "    </tr>\n",
       "  </thead>\n",
       "  <tbody>\n",
       "    <tr>\n",
       "      <th>862</th>\n",
       "      <td><img src='http://image.tmdb.org/t/p/w185//uXDfjJbdP4ijW5hWSBrPrlKpxab.jpg' style='height:100px;'></td>\n",
       "      <td>Toy Story</td>\n",
       "      <td>373.554033</td>\n",
       "    </tr>\n",
       "    <tr>\n",
       "      <th>8844</th>\n",
       "      <td><img src='http://image.tmdb.org/t/p/w185//vgpXmVaVyUL7GGiDeiK1mKEKzcX.jpg' style='height:100px;'></td>\n",
       "      <td>Jumanji</td>\n",
       "      <td>262.797249</td>\n",
       "    </tr>\n",
       "    <tr>\n",
       "      <th>15602</th>\n",
       "      <td><img src='http://image.tmdb.org/t/p/w185//1FSXpj5e8l4KH6nVFO5SPUeraOt.jpg' style='height:100px;'></td>\n",
       "      <td>Grumpier Old Men</td>\n",
       "      <td>NaN</td>\n",
       "    </tr>\n",
       "    <tr>\n",
       "      <th>31357</th>\n",
       "      <td><img src='http://image.tmdb.org/t/p/w185//4wjGMwPsdlvi025ZqR4rXnFDvBz.jpg' style='height:100px;'></td>\n",
       "      <td>Waiting to Exhale</td>\n",
       "      <td>81.452156</td>\n",
       "    </tr>\n",
       "    <tr>\n",
       "      <th>11862</th>\n",
       "      <td><img src='http://image.tmdb.org/t/p/w185//lf9RTErt8BSLQy98aSFblElvsCQ.jpg' style='height:100px;'></td>\n",
       "      <td>Father of the Bride Part II</td>\n",
       "      <td>76.578911</td>\n",
       "    </tr>\n",
       "  </tbody>\n",
       "</table>"
      ],
      "text/plain": [
       "<IPython.core.display.HTML object>"
      ]
     },
     "execution_count": 77,
     "metadata": {},
     "output_type": "execute_result"
    }
   ],
   "source": [
    "subset = movies_data[['poster_path','title','revenue_musd']]\n",
    "subset.columns = ['','title','revenue_musd']\n",
    "HTML(subset.head(5).to_html(escape=False))"
   ]
  },
  {
   "cell_type": "markdown",
   "metadata": {},
   "source": [
    "## The best and the worst movies..."
   ]
  },
  {
   "cell_type": "markdown",
   "metadata": {},
   "source": [
    "2. __Filter__ the Dataset and __find the best/worst n Movies__ with the"
   ]
  },
  {
   "cell_type": "markdown",
   "metadata": {},
   "source": [
    "- Highest Revenue\n",
    "- Highest Budget\n",
    "- Highest Profit (=Revenue - Budget)\n",
    "- Lowest Profit (=Revenue - Budget)\n",
    "- Highest Return on Investment (=Revenue / Budget) (only movies with Budget >= 10) \n",
    "- Lowest Return on Investment (=Revenue / Budget) (only movies with Budget >= 10)\n",
    "- Highest number of Votes\n",
    "- Highest Rating (only movies with 10 or more Ratings)\n",
    "- Lowest Rating (only movies with 10 or more Ratings)\n",
    "- Highest Popularity"
   ]
  },
  {
   "cell_type": "markdown",
   "metadata": {},
   "source": [
    "__Define__ an appropriate __user-defined function__ to reuse code."
   ]
  },
  {
   "cell_type": "code",
   "execution_count": 62,
   "metadata": {},
   "outputs": [],
   "source": [
    "def top_5_rows(dataframe,key_cols):\n",
    "    return dataframe.sort_values(by=key_cols,ascending=False).head(5).copy()\n",
    "\n",
    "def end_5_rows(dataframe,key_cols):\n",
    "    return dataframe.sort_values(by=key_cols,ascending=True).head(5).copy()"
   ]
  },
  {
   "cell_type": "markdown",
   "metadata": {},
   "source": [
    "__Movies Top 5 - Highest Revenue__"
   ]
  },
  {
   "cell_type": "code",
   "execution_count": 82,
   "metadata": {},
   "outputs": [
    {
     "data": {
      "text/html": [
       "<table border=\"1\" class=\"dataframe\">\n",
       "  <thead>\n",
       "    <tr style=\"text-align: right;\">\n",
       "      <th></th>\n",
       "      <th>poster_path</th>\n",
       "      <th>title</th>\n",
       "      <th>revenue_musd</th>\n",
       "    </tr>\n",
       "    <tr>\n",
       "      <th>id</th>\n",
       "      <th></th>\n",
       "      <th></th>\n",
       "      <th></th>\n",
       "    </tr>\n",
       "  </thead>\n",
       "  <tbody>\n",
       "    <tr>\n",
       "      <th>19995</th>\n",
       "      <td><img src='http://image.tmdb.org/t/p/w185//btnl50ZDJDSCal2NLQIYWw0XxvH.jpg' style='height:100px;'></td>\n",
       "      <td>Avatar</td>\n",
       "      <td>2787.965087</td>\n",
       "    </tr>\n",
       "    <tr>\n",
       "      <th>140607</th>\n",
       "      <td><img src='http://image.tmdb.org/t/p/w185//9rd002JS49RwDW944fF1wjU8iTV.jpg' style='height:100px;'></td>\n",
       "      <td>Star Wars: The Force Awakens</td>\n",
       "      <td>2068.223624</td>\n",
       "    </tr>\n",
       "    <tr>\n",
       "      <th>597</th>\n",
       "      <td><img src='http://image.tmdb.org/t/p/w185//9xjZS2rlVxm8SFx8kPC3aIGCOYQ.jpg' style='height:100px;'></td>\n",
       "      <td>Titanic</td>\n",
       "      <td>1845.034188</td>\n",
       "    </tr>\n",
       "    <tr>\n",
       "      <th>24428</th>\n",
       "      <td><img src='http://image.tmdb.org/t/p/w185//RYMX2wcKCBAr24UyPD7xwmjaTn.jpg' style='height:100px;'></td>\n",
       "      <td>The Avengers</td>\n",
       "      <td>1519.557910</td>\n",
       "    </tr>\n",
       "    <tr>\n",
       "      <th>135397</th>\n",
       "      <td><img src='http://image.tmdb.org/t/p/w185//rhr4y79GpxQF9IsfJItRXVaoGs4.jpg' style='height:100px;'></td>\n",
       "      <td>Jurassic World</td>\n",
       "      <td>1513.528810</td>\n",
       "    </tr>\n",
       "  </tbody>\n",
       "</table>"
      ],
      "text/plain": [
       "<IPython.core.display.HTML object>"
      ]
     },
     "execution_count": 82,
     "metadata": {},
     "output_type": "execute_result"
    }
   ],
   "source": [
    "res = top_5_rows(movies_data,'revenue_musd')[['poster_path','title','revenue_musd']]\n",
    "HTML(res.to_html(escape=False))"
   ]
  },
  {
   "cell_type": "markdown",
   "metadata": {},
   "source": [
    "__Movies Top 5 - Highest Budget__"
   ]
  },
  {
   "cell_type": "code",
   "execution_count": 81,
   "metadata": {},
   "outputs": [
    {
     "data": {
      "text/html": [
       "<table border=\"1\" class=\"dataframe\">\n",
       "  <thead>\n",
       "    <tr style=\"text-align: right;\">\n",
       "      <th></th>\n",
       "      <th>poster_path</th>\n",
       "      <th>title</th>\n",
       "      <th>budget_musd</th>\n",
       "    </tr>\n",
       "    <tr>\n",
       "      <th>id</th>\n",
       "      <th></th>\n",
       "      <th></th>\n",
       "      <th></th>\n",
       "    </tr>\n",
       "  </thead>\n",
       "  <tbody>\n",
       "    <tr>\n",
       "      <th>1865</th>\n",
       "      <td><img src='http://image.tmdb.org/t/p/w185//keGfSvCmYj7CvdRx36OdVrAEibE.jpg' style='height:100px;'></td>\n",
       "      <td>Pirates of the Caribbean: On Stranger Tides</td>\n",
       "      <td>380.0</td>\n",
       "    </tr>\n",
       "    <tr>\n",
       "      <th>285</th>\n",
       "      <td><img src='http://image.tmdb.org/t/p/w185//oVh3REsCwJwmrTkZ9OkkeKiAE02.jpg' style='height:100px;'></td>\n",
       "      <td>Pirates of the Caribbean: At World's End</td>\n",
       "      <td>300.0</td>\n",
       "    </tr>\n",
       "    <tr>\n",
       "      <th>99861</th>\n",
       "      <td><img src='http://image.tmdb.org/t/p/w185//4ssDuvEDkSArWEdyBl2X5EHvYKU.jpg' style='height:100px;'></td>\n",
       "      <td>Avengers: Age of Ultron</td>\n",
       "      <td>280.0</td>\n",
       "    </tr>\n",
       "    <tr>\n",
       "      <th>1452</th>\n",
       "      <td><img src='http://image.tmdb.org/t/p/w185//6ZYOpyhFZrAQIe1BuhqVgzfAdGZ.jpg' style='height:100px;'></td>\n",
       "      <td>Superman Returns</td>\n",
       "      <td>270.0</td>\n",
       "    </tr>\n",
       "    <tr>\n",
       "      <th>49529</th>\n",
       "      <td><img src='http://image.tmdb.org/t/p/w185//7GSSyUUgUEXm1rhmiPGSRuKoqnK.jpg' style='height:100px;'></td>\n",
       "      <td>John Carter</td>\n",
       "      <td>260.0</td>\n",
       "    </tr>\n",
       "  </tbody>\n",
       "</table>"
      ],
      "text/plain": [
       "<IPython.core.display.HTML object>"
      ]
     },
     "execution_count": 81,
     "metadata": {},
     "output_type": "execute_result"
    }
   ],
   "source": [
    "res=top_5_rows(movies_data,'budget_musd')[['poster_path','title','budget_musd']]\n",
    "HTML(res.to_html(escape=False))"
   ]
  },
  {
   "cell_type": "markdown",
   "metadata": {},
   "source": [
    "__Movies Top 5 - Highest Profit__"
   ]
  },
  {
   "cell_type": "code",
   "execution_count": 83,
   "metadata": {},
   "outputs": [
    {
     "data": {
      "text/html": [
       "<table border=\"1\" class=\"dataframe\">\n",
       "  <thead>\n",
       "    <tr style=\"text-align: right;\">\n",
       "      <th></th>\n",
       "      <th>poster_path</th>\n",
       "      <th>title</th>\n",
       "      <th>profit</th>\n",
       "    </tr>\n",
       "    <tr>\n",
       "      <th>id</th>\n",
       "      <th></th>\n",
       "      <th></th>\n",
       "      <th></th>\n",
       "    </tr>\n",
       "  </thead>\n",
       "  <tbody>\n",
       "    <tr>\n",
       "      <th>19995</th>\n",
       "      <td><img src='http://image.tmdb.org/t/p/w185//btnl50ZDJDSCal2NLQIYWw0XxvH.jpg' style='height:100px;'></td>\n",
       "      <td>Avatar</td>\n",
       "      <td>2550.965087</td>\n",
       "    </tr>\n",
       "    <tr>\n",
       "      <th>140607</th>\n",
       "      <td><img src='http://image.tmdb.org/t/p/w185//9rd002JS49RwDW944fF1wjU8iTV.jpg' style='height:100px;'></td>\n",
       "      <td>Star Wars: The Force Awakens</td>\n",
       "      <td>1823.223624</td>\n",
       "    </tr>\n",
       "    <tr>\n",
       "      <th>597</th>\n",
       "      <td><img src='http://image.tmdb.org/t/p/w185//9xjZS2rlVxm8SFx8kPC3aIGCOYQ.jpg' style='height:100px;'></td>\n",
       "      <td>Titanic</td>\n",
       "      <td>1645.034188</td>\n",
       "    </tr>\n",
       "    <tr>\n",
       "      <th>135397</th>\n",
       "      <td><img src='http://image.tmdb.org/t/p/w185//rhr4y79GpxQF9IsfJItRXVaoGs4.jpg' style='height:100px;'></td>\n",
       "      <td>Jurassic World</td>\n",
       "      <td>1363.528810</td>\n",
       "    </tr>\n",
       "    <tr>\n",
       "      <th>168259</th>\n",
       "      <td><img src='http://image.tmdb.org/t/p/w185//d9jZ2bKZw3ptTuxAyVHA6olPAVs.jpg' style='height:100px;'></td>\n",
       "      <td>Furious 7</td>\n",
       "      <td>1316.249360</td>\n",
       "    </tr>\n",
       "  </tbody>\n",
       "</table>"
      ],
      "text/plain": [
       "<IPython.core.display.HTML object>"
      ]
     },
     "execution_count": 83,
     "metadata": {},
     "output_type": "execute_result"
    }
   ],
   "source": [
    "movies_data['profit'] =  movies_data['revenue_musd'] - movies_data['budget_musd']\n",
    "result=top_5_rows(movies_data,'profit')[['poster_path','title','profit']]\n",
    "HTML(result.to_html(escape=False))"
   ]
  },
  {
   "cell_type": "markdown",
   "metadata": {},
   "source": [
    "__Movies Top 5 - Lowest Profit__"
   ]
  },
  {
   "cell_type": "code",
   "execution_count": 84,
   "metadata": {
    "scrolled": false
   },
   "outputs": [
    {
     "data": {
      "text/html": [
       "<table border=\"1\" class=\"dataframe\">\n",
       "  <thead>\n",
       "    <tr style=\"text-align: right;\">\n",
       "      <th></th>\n",
       "      <th>poster_path</th>\n",
       "      <th>title</th>\n",
       "      <th>profit</th>\n",
       "    </tr>\n",
       "    <tr>\n",
       "      <th>id</th>\n",
       "      <th></th>\n",
       "      <th></th>\n",
       "      <th></th>\n",
       "    </tr>\n",
       "  </thead>\n",
       "  <tbody>\n",
       "    <tr>\n",
       "      <th>57201</th>\n",
       "      <td><img src='http://image.tmdb.org/t/p/w185//b2je2ZybNIzAOL1K1WPbbT6zt2M.jpg' style='height:100px;'></td>\n",
       "      <td>The Lone Ranger</td>\n",
       "      <td>-165.710090</td>\n",
       "    </tr>\n",
       "    <tr>\n",
       "      <th>10733</th>\n",
       "      <td><img src='http://image.tmdb.org/t/p/w185//aZrWYkxCCwSPKp4VjVvn46uHbIX.jpg' style='height:100px;'></td>\n",
       "      <td>The Alamo</td>\n",
       "      <td>-119.180039</td>\n",
       "    </tr>\n",
       "    <tr>\n",
       "      <th>50321</th>\n",
       "      <td><img src='http://image.tmdb.org/t/p/w185//lOKqLd0ud1wdwaPK5h6bGNZIVLT.jpg' style='height:100px;'></td>\n",
       "      <td>Mars Needs Moms</td>\n",
       "      <td>-111.007242</td>\n",
       "    </tr>\n",
       "    <tr>\n",
       "      <th>339964</th>\n",
       "      <td><img src='http://image.tmdb.org/t/p/w185//jfIpMh79fGRqYJ6PwZLCntzgxlF.jpg' style='height:100px;'></td>\n",
       "      <td>Valerian and the City of a Thousand Planets</td>\n",
       "      <td>-107.447384</td>\n",
       "    </tr>\n",
       "    <tr>\n",
       "      <th>1911</th>\n",
       "      <td><img src='http://image.tmdb.org/t/p/w185//7pyhR5K1iv67daYw0DfsmsersKA.jpg' style='height:100px;'></td>\n",
       "      <td>The 13th Warrior</td>\n",
       "      <td>-98.301101</td>\n",
       "    </tr>\n",
       "  </tbody>\n",
       "</table>"
      ],
      "text/plain": [
       "<IPython.core.display.HTML object>"
      ]
     },
     "execution_count": 84,
     "metadata": {},
     "output_type": "execute_result"
    }
   ],
   "source": [
    "res = end_5_rows(movies_data,'profit')[['poster_path','title','profit']]\n",
    "HTML(res.to_html(escape=False))"
   ]
  },
  {
   "cell_type": "markdown",
   "metadata": {},
   "source": [
    "__Movies Top 5 - Highest ROI__"
   ]
  },
  {
   "cell_type": "code",
   "execution_count": 90,
   "metadata": {
    "scrolled": false
   },
   "outputs": [
    {
     "name": "stderr",
     "output_type": "stream",
     "text": [
      "C:\\Users\\ishan\\AppData\\Local\\Temp\\ipykernel_18676\\3916124469.py:2: SettingWithCopyWarning: \n",
      "A value is trying to be set on a copy of a slice from a DataFrame.\n",
      "Try using .loc[row_indexer,col_indexer] = value instead\n",
      "\n",
      "See the caveats in the documentation: https://pandas.pydata.org/pandas-docs/stable/user_guide/indexing.html#returning-a-view-versus-a-copy\n",
      "  movies_budget_10['roi'] = movies_budget_10['revenue_musd']/movies_budget_10['budget_musd']\n"
     ]
    },
    {
     "data": {
      "text/html": [
       "<table border=\"1\" class=\"dataframe\">\n",
       "  <thead>\n",
       "    <tr style=\"text-align: right;\">\n",
       "      <th></th>\n",
       "      <th>poster_path</th>\n",
       "      <th>title</th>\n",
       "      <th>roi</th>\n",
       "    </tr>\n",
       "    <tr>\n",
       "      <th>id</th>\n",
       "      <th></th>\n",
       "      <th></th>\n",
       "      <th></th>\n",
       "    </tr>\n",
       "  </thead>\n",
       "  <tbody>\n",
       "    <tr>\n",
       "      <th>601</th>\n",
       "      <td><img src='http://image.tmdb.org/t/p/w185//cBfkE3HSH1NOyy1ftxlPw2l3ukb.jpg' style='height:100px;'></td>\n",
       "      <td>E.T. the Extra-Terrestrial</td>\n",
       "      <td>75.520507</td>\n",
       "    </tr>\n",
       "    <tr>\n",
       "      <th>11</th>\n",
       "      <td><img src='http://image.tmdb.org/t/p/w185//6FfCtAuVAW8XJjZ7eWeLibRLWTw.jpg' style='height:100px;'></td>\n",
       "      <td>Star Wars</td>\n",
       "      <td>70.490728</td>\n",
       "    </tr>\n",
       "    <tr>\n",
       "      <th>114</th>\n",
       "      <td><img src='http://image.tmdb.org/t/p/w185//hMVMMy1yDUvdufpTl8J8KKNYaZX.jpg' style='height:100px;'></td>\n",
       "      <td>Pretty Woman</td>\n",
       "      <td>33.071429</td>\n",
       "    </tr>\n",
       "    <tr>\n",
       "      <th>77338</th>\n",
       "      <td><img src='http://image.tmdb.org/t/p/w185//w7WxNbb0mcWpwDMd3pJA7LQRfnt.jpg' style='height:100px;'></td>\n",
       "      <td>The Intouchables</td>\n",
       "      <td>32.806221</td>\n",
       "    </tr>\n",
       "    <tr>\n",
       "      <th>1891</th>\n",
       "      <td><img src='http://image.tmdb.org/t/p/w185//7BuH8itoSrLExs2YZSsM01Qk2no.jpg' style='height:100px;'></td>\n",
       "      <td>The Empire Strikes Back</td>\n",
       "      <td>29.911111</td>\n",
       "    </tr>\n",
       "  </tbody>\n",
       "</table>"
      ],
      "text/plain": [
       "<IPython.core.display.HTML object>"
      ]
     },
     "execution_count": 90,
     "metadata": {},
     "output_type": "execute_result"
    }
   ],
   "source": [
    "movies_budget_10 = movies_data[movies_data['budget_musd'] >=10]\n",
    "movies_budget_10['roi'] = movies_budget_10['revenue_musd']/movies_budget_10['budget_musd']\n",
    "res=top_5_rows(movies_budget_10,'roi')[['poster_path','title','roi']]\n",
    "HTML(res.to_html(escape=False))"
   ]
  },
  {
   "cell_type": "markdown",
   "metadata": {},
   "source": [
    "__Movies Top 5 - Lowest ROI__"
   ]
  },
  {
   "cell_type": "code",
   "execution_count": 91,
   "metadata": {},
   "outputs": [
    {
     "data": {
      "text/html": [
       "<table border=\"1\" class=\"dataframe\">\n",
       "  <thead>\n",
       "    <tr style=\"text-align: right;\">\n",
       "      <th></th>\n",
       "      <th>poster_path</th>\n",
       "      <th>title</th>\n",
       "      <th>roi</th>\n",
       "    </tr>\n",
       "    <tr>\n",
       "      <th>id</th>\n",
       "      <th></th>\n",
       "      <th></th>\n",
       "      <th></th>\n",
       "    </tr>\n",
       "  </thead>\n",
       "  <tbody>\n",
       "    <tr>\n",
       "      <th>14844</th>\n",
       "      <td><img src='http://image.tmdb.org/t/p/w185//7qzvS9QKkiDcz1K8EY9Y6ZXkUeD.jpg' style='height:100px;'></td>\n",
       "      <td>Chasing Liberty</td>\n",
       "      <td>5.217391e-07</td>\n",
       "    </tr>\n",
       "    <tr>\n",
       "      <th>18475</th>\n",
       "      <td><img src='http://image.tmdb.org/t/p/w185//eUVEPES8KhnXbTG3G74UZfVQRb7.jpg' style='height:100px;'></td>\n",
       "      <td>The Cookout</td>\n",
       "      <td>7.500000e-07</td>\n",
       "    </tr>\n",
       "    <tr>\n",
       "      <th>33927</th>\n",
       "      <td><img src='http://image.tmdb.org/t/p/w185//kgfvIzCG9PYjYfEtcIPuJpGiY9m.jpg' style='height:100px;'></td>\n",
       "      <td>Deadfall</td>\n",
       "      <td>1.800000e-06</td>\n",
       "    </tr>\n",
       "    <tr>\n",
       "      <th>10944</th>\n",
       "      <td><img src='http://image.tmdb.org/t/p/w185//lcorM51zECU9prrVCvhvpxfkPhb.jpg' style='height:100px;'></td>\n",
       "      <td>In the Cut</td>\n",
       "      <td>1.916667e-06</td>\n",
       "    </tr>\n",
       "    <tr>\n",
       "      <th>98339</th>\n",
       "      <td><img src='http://image.tmdb.org/t/p/w185//zSwCwoi2dQmWcwYT0ea9zH6OXN9.jpg' style='height:100px;'></td>\n",
       "      <td>The Samaritan</td>\n",
       "      <td>2.100833e-04</td>\n",
       "    </tr>\n",
       "  </tbody>\n",
       "</table>"
      ],
      "text/plain": [
       "<IPython.core.display.HTML object>"
      ]
     },
     "execution_count": 91,
     "metadata": {},
     "output_type": "execute_result"
    }
   ],
   "source": [
    "res=end_5_rows(movies_budget_10,'roi')[['poster_path','title','roi']]\n",
    "HTML(res.to_html(escape=False))"
   ]
  },
  {
   "cell_type": "markdown",
   "metadata": {},
   "source": [
    "__Movies Top 5 - Most Votes__"
   ]
  },
  {
   "cell_type": "code",
   "execution_count": 87,
   "metadata": {},
   "outputs": [
    {
     "data": {
      "text/html": [
       "<table border=\"1\" class=\"dataframe\">\n",
       "  <thead>\n",
       "    <tr style=\"text-align: right;\">\n",
       "      <th></th>\n",
       "      <th>poster_path</th>\n",
       "      <th>title</th>\n",
       "      <th>vote_count</th>\n",
       "    </tr>\n",
       "    <tr>\n",
       "      <th>id</th>\n",
       "      <th></th>\n",
       "      <th></th>\n",
       "      <th></th>\n",
       "    </tr>\n",
       "  </thead>\n",
       "  <tbody>\n",
       "    <tr>\n",
       "      <th>27205</th>\n",
       "      <td><img src='http://image.tmdb.org/t/p/w185//9gk7adHYeDvHkCSEqAvQNLV5Uge.jpg' style='height:100px;'></td>\n",
       "      <td>Inception</td>\n",
       "      <td>14075.0</td>\n",
       "    </tr>\n",
       "    <tr>\n",
       "      <th>155</th>\n",
       "      <td><img src='http://image.tmdb.org/t/p/w185//qJ2tW6WMUDux911r6m7haRef0WH.jpg' style='height:100px;'></td>\n",
       "      <td>The Dark Knight</td>\n",
       "      <td>12269.0</td>\n",
       "    </tr>\n",
       "    <tr>\n",
       "      <th>19995</th>\n",
       "      <td><img src='http://image.tmdb.org/t/p/w185//btnl50ZDJDSCal2NLQIYWw0XxvH.jpg' style='height:100px;'></td>\n",
       "      <td>Avatar</td>\n",
       "      <td>12114.0</td>\n",
       "    </tr>\n",
       "    <tr>\n",
       "      <th>24428</th>\n",
       "      <td><img src='http://image.tmdb.org/t/p/w185//RYMX2wcKCBAr24UyPD7xwmjaTn.jpg' style='height:100px;'></td>\n",
       "      <td>The Avengers</td>\n",
       "      <td>12000.0</td>\n",
       "    </tr>\n",
       "    <tr>\n",
       "      <th>293660</th>\n",
       "      <td><img src='http://image.tmdb.org/t/p/w185//fSRb7vyIP8rQpL0I47P3qUsEKX3.jpg' style='height:100px;'></td>\n",
       "      <td>Deadpool</td>\n",
       "      <td>11444.0</td>\n",
       "    </tr>\n",
       "  </tbody>\n",
       "</table>"
      ],
      "text/plain": [
       "<IPython.core.display.HTML object>"
      ]
     },
     "execution_count": 87,
     "metadata": {},
     "output_type": "execute_result"
    }
   ],
   "source": [
    "res=top_5_rows(movies_data,'vote_count')[['poster_path','title','vote_count']]\n",
    "HTML(res.to_html(escape=False))"
   ]
  },
  {
   "cell_type": "markdown",
   "metadata": {},
   "source": [
    "__Movies Top 5 - Highest Rating__"
   ]
  },
  {
   "cell_type": "code",
   "execution_count": 93,
   "metadata": {},
   "outputs": [
    {
     "data": {
      "text/html": [
       "<table border=\"1\" class=\"dataframe\">\n",
       "  <thead>\n",
       "    <tr style=\"text-align: right;\">\n",
       "      <th></th>\n",
       "      <th>poster_path</th>\n",
       "      <th>title</th>\n",
       "      <th>vote_average</th>\n",
       "    </tr>\n",
       "    <tr>\n",
       "      <th>id</th>\n",
       "      <th></th>\n",
       "      <th></th>\n",
       "      <th></th>\n",
       "    </tr>\n",
       "  </thead>\n",
       "  <tbody>\n",
       "    <tr>\n",
       "      <th>130824</th>\n",
       "      <td><img src='http://image.tmdb.org/t/p/w185//k0I65rky3t2HiVciCm1MquV1kSb.jpg' style='height:100px;'></td>\n",
       "      <td>As I Was Moving Ahead Occasionally I Saw Brief Glimpses of Beauty</td>\n",
       "      <td>9.5</td>\n",
       "    </tr>\n",
       "    <tr>\n",
       "      <th>420714</th>\n",
       "      <td><img src='http://image.tmdb.org/t/p/w185//gTvArgUjEUDxYMqJHSwVlrn1Cjk.jpg' style='height:100px;'></td>\n",
       "      <td>Planet Earth II</td>\n",
       "      <td>9.5</td>\n",
       "    </tr>\n",
       "    <tr>\n",
       "      <th>26397</th>\n",
       "      <td><img src='http://image.tmdb.org/t/p/w185//r4sWAokhRr5gYgl5GjzQ8XXCXwI.jpg' style='height:100px;'></td>\n",
       "      <td>The Civil War</td>\n",
       "      <td>9.2</td>\n",
       "    </tr>\n",
       "    <tr>\n",
       "      <th>19404</th>\n",
       "      <td><img src='http://image.tmdb.org/t/p/w185//2CAL2433ZeIihfX1Hb2139CX0pW.jpg' style='height:100px;'></td>\n",
       "      <td>Dilwale Dulhania Le Jayenge</td>\n",
       "      <td>9.1</td>\n",
       "    </tr>\n",
       "    <tr>\n",
       "      <th>409926</th>\n",
       "      <td><img src='http://image.tmdb.org/t/p/w185//mYrnDinyVDhWatHYSwADTTYqoMG.jpg' style='height:100px;'></td>\n",
       "      <td>Cosmos</td>\n",
       "      <td>9.1</td>\n",
       "    </tr>\n",
       "  </tbody>\n",
       "</table>"
      ],
      "text/plain": [
       "<IPython.core.display.HTML object>"
      ]
     },
     "execution_count": 93,
     "metadata": {},
     "output_type": "execute_result"
    }
   ],
   "source": [
    "res = top_5_rows(movies_data[movies_data.vote_count >= 10],'vote_average')[['poster_path','title','vote_average']]\n",
    "HTML(res.to_html(escape=False))"
   ]
  },
  {
   "cell_type": "markdown",
   "metadata": {},
   "source": [
    "__Movies Top 5 - Lowest Rating__"
   ]
  },
  {
   "cell_type": "code",
   "execution_count": 96,
   "metadata": {},
   "outputs": [
    {
     "data": {
      "text/html": [
       "<table border=\"1\" class=\"dataframe\">\n",
       "  <thead>\n",
       "    <tr style=\"text-align: right;\">\n",
       "      <th></th>\n",
       "      <th>poster_path</th>\n",
       "      <th>title</th>\n",
       "      <th>vote_average</th>\n",
       "    </tr>\n",
       "    <tr>\n",
       "      <th>id</th>\n",
       "      <th></th>\n",
       "      <th></th>\n",
       "      <th></th>\n",
       "    </tr>\n",
       "  </thead>\n",
       "  <tbody>\n",
       "    <tr>\n",
       "      <th>398818</th>\n",
       "      <td><img src='http://image.tmdb.org/t/p/w185//tcNniniS4rfqrLH0oORikJfnIwY.jpg' style='height:100px;'></td>\n",
       "      <td>Call Me by Your Name</td>\n",
       "      <td>0.0</td>\n",
       "    </tr>\n",
       "    <tr>\n",
       "      <th>279988</th>\n",
       "      <td><img src='http://image.tmdb.org/t/p/w185//13LTZkxrAkswx2eidHK06XbVH8n.jpg' style='height:100px;'></td>\n",
       "      <td>Extinction: Nature Has Evolved</td>\n",
       "      <td>0.0</td>\n",
       "    </tr>\n",
       "    <tr>\n",
       "      <th>341689</th>\n",
       "      <td><img src='http://image.tmdb.org/t/p/w185//v6mPfyGshwXd1R6kQlMEyZ8Zu2s.jpg' style='height:100px;'></td>\n",
       "      <td>How to Talk to Girls at Parties</td>\n",
       "      <td>0.0</td>\n",
       "    </tr>\n",
       "    <tr>\n",
       "      <th>13383</th>\n",
       "      <td><img src='http://image.tmdb.org/t/p/w185//xurQgTzzYjYRwhWcUwzlE14SInp.jpg' style='height:100px;'></td>\n",
       "      <td>Santa Claus</td>\n",
       "      <td>1.6</td>\n",
       "    </tr>\n",
       "    <tr>\n",
       "      <th>22727</th>\n",
       "      <td><img src='http://image.tmdb.org/t/p/w185//cehviKwq7dOKn8JGqzIizQVW4og.jpg' style='height:100px;'></td>\n",
       "      <td>The Beast of Yucca Flats</td>\n",
       "      <td>1.6</td>\n",
       "    </tr>\n",
       "  </tbody>\n",
       "</table>"
      ],
      "text/plain": [
       "<IPython.core.display.HTML object>"
      ]
     },
     "execution_count": 96,
     "metadata": {},
     "output_type": "execute_result"
    }
   ],
   "source": [
    "res = end_5_rows(movies_data[movies_data.vote_count >= 10],'vote_average')[['poster_path','title','vote_average']]\n",
    "HTML(res.to_html(escape=False))"
   ]
  },
  {
   "cell_type": "markdown",
   "metadata": {},
   "source": [
    "__Movies Top 5 - Most Popular__"
   ]
  },
  {
   "cell_type": "code",
   "execution_count": 97,
   "metadata": {},
   "outputs": [
    {
     "data": {
      "text/html": [
       "<table border=\"1\" class=\"dataframe\">\n",
       "  <thead>\n",
       "    <tr style=\"text-align: right;\">\n",
       "      <th></th>\n",
       "      <th>poster_path</th>\n",
       "      <th>title</th>\n",
       "      <th>popularity</th>\n",
       "    </tr>\n",
       "    <tr>\n",
       "      <th>id</th>\n",
       "      <th></th>\n",
       "      <th></th>\n",
       "      <th></th>\n",
       "    </tr>\n",
       "  </thead>\n",
       "  <tbody>\n",
       "    <tr>\n",
       "      <th>211672</th>\n",
       "      <td><img src='http://image.tmdb.org/t/p/w185//tMaGZ2HR8HAFwkx4YRib0CDVfNT.jpg' style='height:100px;'></td>\n",
       "      <td>Minions</td>\n",
       "      <td>547.488298</td>\n",
       "    </tr>\n",
       "    <tr>\n",
       "      <th>297762</th>\n",
       "      <td><img src='http://image.tmdb.org/t/p/w185//gfJGlDaHuWimErCr5Ql0I8x9QSy.jpg' style='height:100px;'></td>\n",
       "      <td>Wonder Woman</td>\n",
       "      <td>294.337037</td>\n",
       "    </tr>\n",
       "    <tr>\n",
       "      <th>321612</th>\n",
       "      <td><img src='http://image.tmdb.org/t/p/w185//tWqifoYuwLETmmasnGHO7xBjEtt.jpg' style='height:100px;'></td>\n",
       "      <td>Beauty and the Beast</td>\n",
       "      <td>287.253654</td>\n",
       "    </tr>\n",
       "    <tr>\n",
       "      <th>339403</th>\n",
       "      <td><img src='http://image.tmdb.org/t/p/w185//rmnQ9jKW72bHu8uKlMjPIb2VLMI.jpg' style='height:100px;'></td>\n",
       "      <td>Baby Driver</td>\n",
       "      <td>228.032744</td>\n",
       "    </tr>\n",
       "    <tr>\n",
       "      <th>177572</th>\n",
       "      <td><img src='http://image.tmdb.org/t/p/w185//xozrGME58olN1xBhtxmjpOoY0jH.jpg' style='height:100px;'></td>\n",
       "      <td>Big Hero 6</td>\n",
       "      <td>213.849907</td>\n",
       "    </tr>\n",
       "  </tbody>\n",
       "</table>"
      ],
      "text/plain": [
       "<IPython.core.display.HTML object>"
      ]
     },
     "execution_count": 97,
     "metadata": {},
     "output_type": "execute_result"
    }
   ],
   "source": [
    "res=top_5_rows(movies_data,'popularity')[['poster_path','title','popularity']]\n",
    "HTML(res.to_html(escape=False))"
   ]
  },
  {
   "cell_type": "markdown",
   "metadata": {},
   "source": [
    "## Find your next Movie"
   ]
  },
  {
   "cell_type": "markdown",
   "metadata": {},
   "source": [
    "3. __Filter__ the Dataset for movies that meet the following conditions:"
   ]
  },
  {
   "cell_type": "markdown",
   "metadata": {},
   "source": [
    "__Search 1: Science Fiction Action Movie with Bruce Willis (sorted from high to low Rating)__"
   ]
  },
  {
   "cell_type": "markdown",
   "metadata": {},
   "source": [
    "__Search 2: Movies with Uma Thurman and directed by Quentin Tarantino (sorted from short to long runtime)__"
   ]
  },
  {
   "cell_type": "markdown",
   "metadata": {},
   "source": [
    "__Search 3: Most Successful Pixar Studio Movies between 2010 and 2015 (sorted from high to low Revenue)__"
   ]
  },
  {
   "cell_type": "markdown",
   "metadata": {},
   "source": [
    "__Search 4: Action or Thriller Movie with original language English and minimum Rating of 7.5 (most recent movies first)__"
   ]
  },
  {
   "cell_type": "code",
   "execution_count": 114,
   "metadata": {},
   "outputs": [
    {
     "data": {
      "text/html": [
       "<table border=\"1\" class=\"dataframe\">\n",
       "  <thead>\n",
       "    <tr style=\"text-align: right;\">\n",
       "      <th></th>\n",
       "      <th>poster_path</th>\n",
       "      <th>title</th>\n",
       "      <th>vote_average</th>\n",
       "    </tr>\n",
       "    <tr>\n",
       "      <th>id</th>\n",
       "      <th></th>\n",
       "      <th></th>\n",
       "      <th></th>\n",
       "    </tr>\n",
       "  </thead>\n",
       "  <tbody>\n",
       "    <tr>\n",
       "      <th>63</th>\n",
       "      <td><img src='http://image.tmdb.org/t/p/w185//2F9KcDGZbEdaQN5jV9ziyRZYY7u.jpg' style='height:100px;'></td>\n",
       "      <td>Twelve Monkeys</td>\n",
       "      <td>7.4</td>\n",
       "    </tr>\n",
       "    <tr>\n",
       "      <th>18</th>\n",
       "      <td><img src='http://image.tmdb.org/t/p/w185//fPtlCO1yQtnoLHOwKtWz7db6RGU.jpg' style='height:100px;'></td>\n",
       "      <td>The Fifth Element</td>\n",
       "      <td>7.3</td>\n",
       "    </tr>\n",
       "    <tr>\n",
       "      <th>9741</th>\n",
       "      <td><img src='http://image.tmdb.org/t/p/w185//kXkV3RKsSf49wbSnUerKZFMQORB.jpg' style='height:100px;'></td>\n",
       "      <td>Unbreakable</td>\n",
       "      <td>6.9</td>\n",
       "    </tr>\n",
       "    <tr>\n",
       "      <th>59967</th>\n",
       "      <td><img src='http://image.tmdb.org/t/p/w185//sNjL6SqErDBE8OUZlrDLkexfsCj.jpg' style='height:100px;'></td>\n",
       "      <td>Looper</td>\n",
       "      <td>6.6</td>\n",
       "    </tr>\n",
       "    <tr>\n",
       "      <th>95</th>\n",
       "      <td><img src='http://image.tmdb.org/t/p/w185//fMtOCd0EAdAzKtGLQiHjSUvbdNc.jpg' style='height:100px;'></td>\n",
       "      <td>Armageddon</td>\n",
       "      <td>6.5</td>\n",
       "    </tr>\n",
       "  </tbody>\n",
       "</table>"
      ],
      "text/plain": [
       "<IPython.core.display.HTML object>"
      ]
     },
     "execution_count": 114,
     "metadata": {},
     "output_type": "execute_result"
    }
   ],
   "source": [
    "#movies_data['genre_list'] = movies_data['genres'].str.split('|')\n",
    "#movies_data['cast_list'] = movies_data['cast'].str.split('|')\n",
    "#movies_data[['title','genre_list','cast_list','vote_average']]\n",
    "science_fiction_mask = movies_data.genres.str.contains('Science Fiction',na=False)\n",
    "bruce_willis_movies = movies_data.cast.str.contains('Bruce Willis')\n",
    "res=top_5_rows(movies_data.loc[science_fiction_mask & bruce_willis_movies],'vote_average')[['poster_path','title','vote_average']]\n",
    "HTML(res.to_html(escape=False))"
   ]
  },
  {
   "cell_type": "markdown",
   "metadata": {},
   "source": [
    "## Are Franchises more successful?"
   ]
  },
  {
   "cell_type": "markdown",
   "metadata": {},
   "source": [
    "4. __Analyze__ the Dataset and __find out whether Franchises (Movies that belong to a collection) are more successful than stand-alone movies__ in terms of:"
   ]
  },
  {
   "cell_type": "markdown",
   "metadata": {},
   "source": [
    "- mean revenue\n",
    "- median Return on Investment\n",
    "- mean budget raised\n",
    "- mean popularity\n",
    "- mean rating"
   ]
  },
  {
   "cell_type": "markdown",
   "metadata": {},
   "source": [
    "hint: use groupby()"
   ]
  },
  {
   "cell_type": "markdown",
   "metadata": {},
   "source": [
    "__Franchise vs. Stand-alone: Average Revenue__"
   ]
  },
  {
   "cell_type": "code",
   "execution_count": 124,
   "metadata": {
    "scrolled": true
   },
   "outputs": [
    {
     "name": "stderr",
     "output_type": "stream",
     "text": [
      "C:\\Users\\ishan\\AppData\\Local\\Temp\\ipykernel_18676\\3067023580.py:1: FutureWarning: Indexing with multiple keys (implicitly converted to a tuple of keys) will be deprecated, use a list instead.\n",
      "  movies_data.groupby('belongs_to_collection')['revenue_musd','budget_musd','popularity','vote_average'].mean()\\\n"
     ]
    },
    {
     "data": {
      "text/html": [
       "<div>\n",
       "<style scoped>\n",
       "    .dataframe tbody tr th:only-of-type {\n",
       "        vertical-align: middle;\n",
       "    }\n",
       "\n",
       "    .dataframe tbody tr th {\n",
       "        vertical-align: top;\n",
       "    }\n",
       "\n",
       "    .dataframe thead th {\n",
       "        text-align: right;\n",
       "    }\n",
       "</style>\n",
       "<table border=\"1\" class=\"dataframe\">\n",
       "  <thead>\n",
       "    <tr style=\"text-align: right;\">\n",
       "      <th></th>\n",
       "      <th>revenue_musd</th>\n",
       "      <th>budget_musd</th>\n",
       "      <th>popularity</th>\n",
       "      <th>vote_average</th>\n",
       "    </tr>\n",
       "    <tr>\n",
       "      <th>belongs_to_collection</th>\n",
       "      <th></th>\n",
       "      <th></th>\n",
       "      <th></th>\n",
       "      <th></th>\n",
       "    </tr>\n",
       "  </thead>\n",
       "  <tbody>\n",
       "    <tr>\n",
       "      <th>Argo Collection</th>\n",
       "      <td>NaN</td>\n",
       "      <td>NaN</td>\n",
       "      <td>0.499400</td>\n",
       "      <td>9.3</td>\n",
       "    </tr>\n",
       "    <tr>\n",
       "      <th>Bloodfight</th>\n",
       "      <td>NaN</td>\n",
       "      <td>NaN</td>\n",
       "      <td>0.255977</td>\n",
       "      <td>9.0</td>\n",
       "    </tr>\n",
       "    <tr>\n",
       "      <th>Kenji Misumi's Trilogy of the Sword</th>\n",
       "      <td>NaN</td>\n",
       "      <td>NaN</td>\n",
       "      <td>0.661920</td>\n",
       "      <td>9.0</td>\n",
       "    </tr>\n",
       "    <tr>\n",
       "      <th>Dreileben</th>\n",
       "      <td>NaN</td>\n",
       "      <td>NaN</td>\n",
       "      <td>0.085509</td>\n",
       "      <td>9.0</td>\n",
       "    </tr>\n",
       "    <tr>\n",
       "      <th>Алиса в стране чудес (Коллекция)</th>\n",
       "      <td>NaN</td>\n",
       "      <td>NaN</td>\n",
       "      <td>0.320034</td>\n",
       "      <td>8.7</td>\n",
       "    </tr>\n",
       "    <tr>\n",
       "      <th>...</th>\n",
       "      <td>...</td>\n",
       "      <td>...</td>\n",
       "      <td>...</td>\n",
       "      <td>...</td>\n",
       "    </tr>\n",
       "    <tr>\n",
       "      <th>The Aum Shinrikyo Collection</th>\n",
       "      <td>NaN</td>\n",
       "      <td>NaN</td>\n",
       "      <td>0.052024</td>\n",
       "      <td>NaN</td>\n",
       "    </tr>\n",
       "    <tr>\n",
       "      <th>The Pub Landlord Collection</th>\n",
       "      <td>NaN</td>\n",
       "      <td>NaN</td>\n",
       "      <td>0.003506</td>\n",
       "      <td>NaN</td>\n",
       "    </tr>\n",
       "    <tr>\n",
       "      <th>Thou Shalt Laugh Collection</th>\n",
       "      <td>NaN</td>\n",
       "      <td>NaN</td>\n",
       "      <td>0.008678</td>\n",
       "      <td>NaN</td>\n",
       "    </tr>\n",
       "    <tr>\n",
       "      <th>Tomtar och Trolltyg Collection</th>\n",
       "      <td>NaN</td>\n",
       "      <td>NaN</td>\n",
       "      <td>0.377454</td>\n",
       "      <td>NaN</td>\n",
       "    </tr>\n",
       "    <tr>\n",
       "      <th>Wodehouse P.G. Collection</th>\n",
       "      <td>NaN</td>\n",
       "      <td>NaN</td>\n",
       "      <td>0.009626</td>\n",
       "      <td>NaN</td>\n",
       "    </tr>\n",
       "  </tbody>\n",
       "</table>\n",
       "<p>1691 rows × 4 columns</p>\n",
       "</div>"
      ],
      "text/plain": [
       "                                     revenue_musd  budget_musd  popularity  \\\n",
       "belongs_to_collection                                                        \n",
       "Argo Collection                               NaN          NaN    0.499400   \n",
       "Bloodfight                                    NaN          NaN    0.255977   \n",
       "Kenji Misumi's Trilogy of the Sword           NaN          NaN    0.661920   \n",
       "Dreileben                                     NaN          NaN    0.085509   \n",
       "Алиса в стране чудес (Коллекция)              NaN          NaN    0.320034   \n",
       "...                                           ...          ...         ...   \n",
       "The Aum Shinrikyo Collection                  NaN          NaN    0.052024   \n",
       "The Pub Landlord Collection                   NaN          NaN    0.003506   \n",
       "Thou Shalt Laugh Collection                   NaN          NaN    0.008678   \n",
       "Tomtar och Trolltyg Collection                NaN          NaN    0.377454   \n",
       "Wodehouse P.G. Collection                     NaN          NaN    0.009626   \n",
       "\n",
       "                                     vote_average  \n",
       "belongs_to_collection                              \n",
       "Argo Collection                               9.3  \n",
       "Bloodfight                                    9.0  \n",
       "Kenji Misumi's Trilogy of the Sword           9.0  \n",
       "Dreileben                                     9.0  \n",
       "Алиса в стране чудес (Коллекция)              8.7  \n",
       "...                                           ...  \n",
       "The Aum Shinrikyo Collection                  NaN  \n",
       "The Pub Landlord Collection                   NaN  \n",
       "Thou Shalt Laugh Collection                   NaN  \n",
       "Tomtar och Trolltyg Collection                NaN  \n",
       "Wodehouse P.G. Collection                     NaN  \n",
       "\n",
       "[1691 rows x 4 columns]"
      ]
     },
     "execution_count": 124,
     "metadata": {},
     "output_type": "execute_result"
    }
   ],
   "source": [
    "movies_data.groupby('belongs_to_collection')['revenue_musd','budget_musd','popularity','vote_average'].mean()\\\n",
    "                   .sort_values(by='vote_average',ascending=False)"
   ]
  },
  {
   "cell_type": "markdown",
   "metadata": {},
   "source": [
    "__Franchise vs. Stand-alone: Return on Investment / Profitability (median)__"
   ]
  },
  {
   "cell_type": "code",
   "execution_count": null,
   "metadata": {},
   "outputs": [],
   "source": []
  },
  {
   "cell_type": "markdown",
   "metadata": {},
   "source": [
    "__Franchise vs. Stand-alone: Average Budget__"
   ]
  },
  {
   "cell_type": "code",
   "execution_count": null,
   "metadata": {},
   "outputs": [],
   "source": []
  },
  {
   "cell_type": "markdown",
   "metadata": {},
   "source": [
    "__Franchise vs. Stand-alone: Average Popularity__"
   ]
  },
  {
   "cell_type": "code",
   "execution_count": null,
   "metadata": {},
   "outputs": [],
   "source": []
  },
  {
   "cell_type": "markdown",
   "metadata": {},
   "source": [
    "__Franchise vs. Stand-alone: Average Rating__"
   ]
  },
  {
   "cell_type": "code",
   "execution_count": null,
   "metadata": {},
   "outputs": [],
   "source": []
  },
  {
   "cell_type": "markdown",
   "metadata": {},
   "source": [
    "## Most Successful Franchises"
   ]
  },
  {
   "cell_type": "markdown",
   "metadata": {},
   "source": [
    "5. __Find__ the __most successful Franchises__ in terms of"
   ]
  },
  {
   "cell_type": "markdown",
   "metadata": {},
   "source": [
    "- __total number of movies__\n",
    "- __total & mean budget__\n",
    "- __total & mean revenue__\n",
    "- __mean rating__"
   ]
  },
  {
   "cell_type": "code",
   "execution_count": null,
   "metadata": {},
   "outputs": [],
   "source": []
  },
  {
   "cell_type": "markdown",
   "metadata": {},
   "source": [
    "## Most Successful Directors"
   ]
  },
  {
   "cell_type": "markdown",
   "metadata": {},
   "source": [
    "6. __Find__ the __most successful Directors__ in terms of"
   ]
  },
  {
   "cell_type": "markdown",
   "metadata": {},
   "source": [
    "- __total number of movies__\n",
    "- __total revenue__\n",
    "- __mean rating__"
   ]
  },
  {
   "cell_type": "code",
   "execution_count": null,
   "metadata": {},
   "outputs": [],
   "source": []
  }
 ],
 "metadata": {
  "kernelspec": {
   "display_name": "Python 3 (ipykernel)",
   "language": "python",
   "name": "python3"
  },
  "language_info": {
   "codemirror_mode": {
    "name": "ipython",
    "version": 3
   },
   "file_extension": ".py",
   "mimetype": "text/x-python",
   "name": "python",
   "nbconvert_exporter": "python",
   "pygments_lexer": "ipython3",
   "version": "3.10.9"
  }
 },
 "nbformat": 4,
 "nbformat_minor": 2
}
