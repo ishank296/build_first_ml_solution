{
 "cells": [
  {
   "cell_type": "markdown",
   "metadata": {},
   "source": [
    "# Project 1: Explanatory Data Analysis & Data Presentation (Movies Dataset)"
   ]
  },
  {
   "cell_type": "markdown",
   "metadata": {},
   "source": [
    "# Project Brief for Self-Coders"
   ]
  },
  {
   "cell_type": "markdown",
   "metadata": {},
   "source": [
    "Here you´ll have the opportunity to code major parts of Project 1 on your own. If you need any help or inspiration, have a look at the Videos or the Jupyter Notebook with the full code. <br> <br>\n",
    "Keep in mind that it´s all about __getting the right results/conclusions__. It´s not about finding the identical code. Things can be coded in many different ways. Even if you come to the same conclusions, it´s very unlikely that we have the very same code. "
   ]
  },
  {
   "cell_type": "markdown",
   "metadata": {},
   "source": [
    "## Data Import and first Inspection"
   ]
  },
  {
   "cell_type": "markdown",
   "metadata": {},
   "source": [
    "1. __Import__ the movies dataset from the CSV file \"movies_complete.csv\". __Inspect__ the data."
   ]
  },
  {
   "cell_type": "markdown",
   "metadata": {},
   "source": [
    "__Some additional information on Features/Columns__:"
   ]
  },
  {
   "cell_type": "markdown",
   "metadata": {},
   "source": [
    "* **id:** The ID of the movie (clear/unique identifier).\n",
    "* **title:** The Official Title of the movie.\n",
    "* **tagline:** The tagline of the movie.\n",
    "* **release_date:** Theatrical Release Date of the movie.\n",
    "* **genres:** Genres associated with the movie.\n",
    "* **belongs_to_collection:** Gives information on the movie series/franchise the particular film belongs to.\n",
    "* **original_language:** The language in which the movie was originally shot in.\n",
    "* **budget_musd:** The budget of the movie in million dollars.\n",
    "* **revenue_musd:** The total revenue of the movie in million dollars.\n",
    "* **production_companies:** Production companies involved with the making of the movie.\n",
    "* **production_countries:** Countries where the movie was shot/produced in.\n",
    "* **vote_count:** The number of votes by users, as counted by TMDB.\n",
    "* **vote_average:** The average rating of the movie.\n",
    "* **popularity:** The Popularity Score assigned by TMDB.\n",
    "* **runtime:** The runtime of the movie in minutes.\n",
    "* **overview:** A brief blurb of the movie.\n",
    "* **spoken_languages:** Spoken languages in the film.\n",
    "* **poster_path:** The URL of the poster image.\n",
    "* **cast:** (Main) Actors appearing in the movie.\n",
    "* **cast_size:** number of Actors appearing in the movie.\n",
    "* **director:** Director of the movie.\n",
    "* **crew_size:** Size of the film crew (incl. director, excl. actors)."
   ]
  },
  {
   "cell_type": "code",
   "execution_count": 2,
   "metadata": {},
   "outputs": [
    {
     "data": {
      "text/html": [
       "<div>\n",
       "<style scoped>\n",
       "    .dataframe tbody tr th:only-of-type {\n",
       "        vertical-align: middle;\n",
       "    }\n",
       "\n",
       "    .dataframe tbody tr th {\n",
       "        vertical-align: top;\n",
       "    }\n",
       "\n",
       "    .dataframe thead th {\n",
       "        text-align: right;\n",
       "    }\n",
       "</style>\n",
       "<table border=\"1\" class=\"dataframe\">\n",
       "  <thead>\n",
       "    <tr style=\"text-align: right;\">\n",
       "      <th></th>\n",
       "      <th>budget_musd</th>\n",
       "      <th>revenue_musd</th>\n",
       "      <th>vote_count</th>\n",
       "      <th>vote_average</th>\n",
       "      <th>popularity</th>\n",
       "      <th>runtime</th>\n",
       "      <th>cast_size</th>\n",
       "      <th>crew_size</th>\n",
       "    </tr>\n",
       "  </thead>\n",
       "  <tbody>\n",
       "    <tr>\n",
       "      <th>count</th>\n",
       "      <td>8854.000000</td>\n",
       "      <td>7385.000000</td>\n",
       "      <td>44691.000000</td>\n",
       "      <td>42077.000000</td>\n",
       "      <td>44691.000000</td>\n",
       "      <td>43179.000000</td>\n",
       "      <td>44691.000000</td>\n",
       "      <td>44691.000000</td>\n",
       "    </tr>\n",
       "    <tr>\n",
       "      <th>mean</th>\n",
       "      <td>21.669886</td>\n",
       "      <td>68.968649</td>\n",
       "      <td>111.653778</td>\n",
       "      <td>6.003341</td>\n",
       "      <td>2.957460</td>\n",
       "      <td>97.566850</td>\n",
       "      <td>12.479090</td>\n",
       "      <td>10.313643</td>\n",
       "    </tr>\n",
       "    <tr>\n",
       "      <th>std</th>\n",
       "      <td>34.359837</td>\n",
       "      <td>146.608966</td>\n",
       "      <td>495.322313</td>\n",
       "      <td>1.281060</td>\n",
       "      <td>6.040008</td>\n",
       "      <td>34.653409</td>\n",
       "      <td>12.124663</td>\n",
       "      <td>15.892154</td>\n",
       "    </tr>\n",
       "    <tr>\n",
       "      <th>min</th>\n",
       "      <td>0.000001</td>\n",
       "      <td>0.000001</td>\n",
       "      <td>0.000000</td>\n",
       "      <td>0.000000</td>\n",
       "      <td>0.000000</td>\n",
       "      <td>1.000000</td>\n",
       "      <td>0.000000</td>\n",
       "      <td>0.000000</td>\n",
       "    </tr>\n",
       "    <tr>\n",
       "      <th>25%</th>\n",
       "      <td>2.000000</td>\n",
       "      <td>2.405420</td>\n",
       "      <td>3.000000</td>\n",
       "      <td>5.300000</td>\n",
       "      <td>0.402038</td>\n",
       "      <td>86.000000</td>\n",
       "      <td>6.000000</td>\n",
       "      <td>2.000000</td>\n",
       "    </tr>\n",
       "    <tr>\n",
       "      <th>50%</th>\n",
       "      <td>8.200000</td>\n",
       "      <td>16.872671</td>\n",
       "      <td>10.000000</td>\n",
       "      <td>6.100000</td>\n",
       "      <td>1.150055</td>\n",
       "      <td>95.000000</td>\n",
       "      <td>10.000000</td>\n",
       "      <td>6.000000</td>\n",
       "    </tr>\n",
       "    <tr>\n",
       "      <th>75%</th>\n",
       "      <td>25.000000</td>\n",
       "      <td>67.642693</td>\n",
       "      <td>35.000000</td>\n",
       "      <td>6.800000</td>\n",
       "      <td>3.768882</td>\n",
       "      <td>107.000000</td>\n",
       "      <td>15.000000</td>\n",
       "      <td>12.000000</td>\n",
       "    </tr>\n",
       "    <tr>\n",
       "      <th>max</th>\n",
       "      <td>380.000000</td>\n",
       "      <td>2787.965087</td>\n",
       "      <td>14075.000000</td>\n",
       "      <td>10.000000</td>\n",
       "      <td>547.488298</td>\n",
       "      <td>1256.000000</td>\n",
       "      <td>313.000000</td>\n",
       "      <td>435.000000</td>\n",
       "    </tr>\n",
       "  </tbody>\n",
       "</table>\n",
       "</div>"
      ],
      "text/plain": [
       "       budget_musd  revenue_musd    vote_count  vote_average    popularity  \\\n",
       "count  8854.000000   7385.000000  44691.000000  42077.000000  44691.000000   \n",
       "mean     21.669886     68.968649    111.653778      6.003341      2.957460   \n",
       "std      34.359837    146.608966    495.322313      1.281060      6.040008   \n",
       "min       0.000001      0.000001      0.000000      0.000000      0.000000   \n",
       "25%       2.000000      2.405420      3.000000      5.300000      0.402038   \n",
       "50%       8.200000     16.872671     10.000000      6.100000      1.150055   \n",
       "75%      25.000000     67.642693     35.000000      6.800000      3.768882   \n",
       "max     380.000000   2787.965087  14075.000000     10.000000    547.488298   \n",
       "\n",
       "            runtime     cast_size     crew_size  \n",
       "count  43179.000000  44691.000000  44691.000000  \n",
       "mean      97.566850     12.479090     10.313643  \n",
       "std       34.653409     12.124663     15.892154  \n",
       "min        1.000000      0.000000      0.000000  \n",
       "25%       86.000000      6.000000      2.000000  \n",
       "50%       95.000000     10.000000      6.000000  \n",
       "75%      107.000000     15.000000     12.000000  \n",
       "max     1256.000000    313.000000    435.000000  "
      ]
     },
     "execution_count": 2,
     "metadata": {},
     "output_type": "execute_result"
    }
   ],
   "source": [
    "import pandas as pd\n",
    "from IPython.display import HTML\n",
    "movies_data = pd.read_csv(\"../../data/movies_complete.csv\",index_col='id',parse_dates=['release_date'])\n",
    "movies_data.describe()"
   ]
  },
  {
   "cell_type": "code",
   "execution_count": 3,
   "metadata": {},
   "outputs": [
    {
     "data": {
      "text/html": [
       "<table border=\"1\" class=\"dataframe\">\n",
       "  <thead>\n",
       "    <tr style=\"text-align: right;\">\n",
       "      <th></th>\n",
       "      <th></th>\n",
       "      <th>title</th>\n",
       "      <th>revenue_musd</th>\n",
       "    </tr>\n",
       "    <tr>\n",
       "      <th>id</th>\n",
       "      <th></th>\n",
       "      <th></th>\n",
       "      <th></th>\n",
       "    </tr>\n",
       "  </thead>\n",
       "  <tbody>\n",
       "    <tr>\n",
       "      <th>862</th>\n",
       "      <td><img src='http://image.tmdb.org/t/p/w185//uXDfjJbdP4ijW5hWSBrPrlKpxab.jpg' style='height:100px;'></td>\n",
       "      <td>Toy Story</td>\n",
       "      <td>373.554033</td>\n",
       "    </tr>\n",
       "    <tr>\n",
       "      <th>8844</th>\n",
       "      <td><img src='http://image.tmdb.org/t/p/w185//vgpXmVaVyUL7GGiDeiK1mKEKzcX.jpg' style='height:100px;'></td>\n",
       "      <td>Jumanji</td>\n",
       "      <td>262.797249</td>\n",
       "    </tr>\n",
       "    <tr>\n",
       "      <th>15602</th>\n",
       "      <td><img src='http://image.tmdb.org/t/p/w185//1FSXpj5e8l4KH6nVFO5SPUeraOt.jpg' style='height:100px;'></td>\n",
       "      <td>Grumpier Old Men</td>\n",
       "      <td>NaN</td>\n",
       "    </tr>\n",
       "    <tr>\n",
       "      <th>31357</th>\n",
       "      <td><img src='http://image.tmdb.org/t/p/w185//4wjGMwPsdlvi025ZqR4rXnFDvBz.jpg' style='height:100px;'></td>\n",
       "      <td>Waiting to Exhale</td>\n",
       "      <td>81.452156</td>\n",
       "    </tr>\n",
       "    <tr>\n",
       "      <th>11862</th>\n",
       "      <td><img src='http://image.tmdb.org/t/p/w185//lf9RTErt8BSLQy98aSFblElvsCQ.jpg' style='height:100px;'></td>\n",
       "      <td>Father of the Bride Part II</td>\n",
       "      <td>76.578911</td>\n",
       "    </tr>\n",
       "  </tbody>\n",
       "</table>"
      ],
      "text/plain": [
       "<IPython.core.display.HTML object>"
      ]
     },
     "execution_count": 3,
     "metadata": {},
     "output_type": "execute_result"
    }
   ],
   "source": [
    "subset = movies_data[['poster_path','title','revenue_musd']]\n",
    "subset.columns = ['','title','revenue_musd']\n",
    "HTML(subset.head(5).to_html(escape=False))"
   ]
  },
  {
   "cell_type": "markdown",
   "metadata": {},
   "source": [
    "## The best and the worst movies..."
   ]
  },
  {
   "cell_type": "markdown",
   "metadata": {},
   "source": [
    "2. __Filter__ the Dataset and __find the best/worst n Movies__ with the"
   ]
  },
  {
   "cell_type": "markdown",
   "metadata": {},
   "source": [
    "- Highest Revenue\n",
    "- Highest Budget\n",
    "- Highest Profit (=Revenue - Budget)\n",
    "- Lowest Profit (=Revenue - Budget)\n",
    "- Highest Return on Investment (=Revenue / Budget) (only movies with Budget >= 10) \n",
    "- Lowest Return on Investment (=Revenue / Budget) (only movies with Budget >= 10)\n",
    "- Highest number of Votes\n",
    "- Highest Rating (only movies with 10 or more Ratings)\n",
    "- Lowest Rating (only movies with 10 or more Ratings)\n",
    "- Highest Popularity"
   ]
  },
  {
   "cell_type": "markdown",
   "metadata": {},
   "source": [
    "__Define__ an appropriate __user-defined function__ to reuse code."
   ]
  },
  {
   "cell_type": "code",
   "execution_count": 4,
   "metadata": {},
   "outputs": [],
   "source": [
    "def top_5_rows(dataframe,key_cols):\n",
    "    return dataframe.sort_values(by=key_cols,ascending=False).head(5).copy()\n",
    "\n",
    "def end_5_rows(dataframe,key_cols):\n",
    "    return dataframe.sort_values(by=key_cols,ascending=True).head(5).copy()"
   ]
  },
  {
   "cell_type": "markdown",
   "metadata": {},
   "source": [
    "__Movies Top 5 - Highest Revenue__"
   ]
  },
  {
   "cell_type": "code",
   "execution_count": 5,
   "metadata": {},
   "outputs": [
    {
     "data": {
      "text/html": [
       "<table border=\"1\" class=\"dataframe\">\n",
       "  <thead>\n",
       "    <tr style=\"text-align: right;\">\n",
       "      <th></th>\n",
       "      <th>poster_path</th>\n",
       "      <th>title</th>\n",
       "      <th>revenue_musd</th>\n",
       "    </tr>\n",
       "    <tr>\n",
       "      <th>id</th>\n",
       "      <th></th>\n",
       "      <th></th>\n",
       "      <th></th>\n",
       "    </tr>\n",
       "  </thead>\n",
       "  <tbody>\n",
       "    <tr>\n",
       "      <th>19995</th>\n",
       "      <td><img src='http://image.tmdb.org/t/p/w185//btnl50ZDJDSCal2NLQIYWw0XxvH.jpg' style='height:100px;'></td>\n",
       "      <td>Avatar</td>\n",
       "      <td>2787.965087</td>\n",
       "    </tr>\n",
       "    <tr>\n",
       "      <th>140607</th>\n",
       "      <td><img src='http://image.tmdb.org/t/p/w185//9rd002JS49RwDW944fF1wjU8iTV.jpg' style='height:100px;'></td>\n",
       "      <td>Star Wars: The Force Awakens</td>\n",
       "      <td>2068.223624</td>\n",
       "    </tr>\n",
       "    <tr>\n",
       "      <th>597</th>\n",
       "      <td><img src='http://image.tmdb.org/t/p/w185//9xjZS2rlVxm8SFx8kPC3aIGCOYQ.jpg' style='height:100px;'></td>\n",
       "      <td>Titanic</td>\n",
       "      <td>1845.034188</td>\n",
       "    </tr>\n",
       "    <tr>\n",
       "      <th>24428</th>\n",
       "      <td><img src='http://image.tmdb.org/t/p/w185//RYMX2wcKCBAr24UyPD7xwmjaTn.jpg' style='height:100px;'></td>\n",
       "      <td>The Avengers</td>\n",
       "      <td>1519.557910</td>\n",
       "    </tr>\n",
       "    <tr>\n",
       "      <th>135397</th>\n",
       "      <td><img src='http://image.tmdb.org/t/p/w185//rhr4y79GpxQF9IsfJItRXVaoGs4.jpg' style='height:100px;'></td>\n",
       "      <td>Jurassic World</td>\n",
       "      <td>1513.528810</td>\n",
       "    </tr>\n",
       "  </tbody>\n",
       "</table>"
      ],
      "text/plain": [
       "<IPython.core.display.HTML object>"
      ]
     },
     "execution_count": 5,
     "metadata": {},
     "output_type": "execute_result"
    }
   ],
   "source": [
    "res = top_5_rows(movies_data,'revenue_musd')[['poster_path','title','revenue_musd']]\n",
    "HTML(res.to_html(escape=False))"
   ]
  },
  {
   "cell_type": "markdown",
   "metadata": {},
   "source": [
    "__Movies Top 5 - Highest Budget__"
   ]
  },
  {
   "cell_type": "code",
   "execution_count": 6,
   "metadata": {},
   "outputs": [
    {
     "data": {
      "text/html": [
       "<table border=\"1\" class=\"dataframe\">\n",
       "  <thead>\n",
       "    <tr style=\"text-align: right;\">\n",
       "      <th></th>\n",
       "      <th>poster_path</th>\n",
       "      <th>title</th>\n",
       "      <th>budget_musd</th>\n",
       "    </tr>\n",
       "    <tr>\n",
       "      <th>id</th>\n",
       "      <th></th>\n",
       "      <th></th>\n",
       "      <th></th>\n",
       "    </tr>\n",
       "  </thead>\n",
       "  <tbody>\n",
       "    <tr>\n",
       "      <th>1865</th>\n",
       "      <td><img src='http://image.tmdb.org/t/p/w185//keGfSvCmYj7CvdRx36OdVrAEibE.jpg' style='height:100px;'></td>\n",
       "      <td>Pirates of the Caribbean: On Stranger Tides</td>\n",
       "      <td>380.0</td>\n",
       "    </tr>\n",
       "    <tr>\n",
       "      <th>285</th>\n",
       "      <td><img src='http://image.tmdb.org/t/p/w185//oVh3REsCwJwmrTkZ9OkkeKiAE02.jpg' style='height:100px;'></td>\n",
       "      <td>Pirates of the Caribbean: At World's End</td>\n",
       "      <td>300.0</td>\n",
       "    </tr>\n",
       "    <tr>\n",
       "      <th>99861</th>\n",
       "      <td><img src='http://image.tmdb.org/t/p/w185//4ssDuvEDkSArWEdyBl2X5EHvYKU.jpg' style='height:100px;'></td>\n",
       "      <td>Avengers: Age of Ultron</td>\n",
       "      <td>280.0</td>\n",
       "    </tr>\n",
       "    <tr>\n",
       "      <th>1452</th>\n",
       "      <td><img src='http://image.tmdb.org/t/p/w185//6ZYOpyhFZrAQIe1BuhqVgzfAdGZ.jpg' style='height:100px;'></td>\n",
       "      <td>Superman Returns</td>\n",
       "      <td>270.0</td>\n",
       "    </tr>\n",
       "    <tr>\n",
       "      <th>49529</th>\n",
       "      <td><img src='http://image.tmdb.org/t/p/w185//7GSSyUUgUEXm1rhmiPGSRuKoqnK.jpg' style='height:100px;'></td>\n",
       "      <td>John Carter</td>\n",
       "      <td>260.0</td>\n",
       "    </tr>\n",
       "  </tbody>\n",
       "</table>"
      ],
      "text/plain": [
       "<IPython.core.display.HTML object>"
      ]
     },
     "execution_count": 6,
     "metadata": {},
     "output_type": "execute_result"
    }
   ],
   "source": [
    "res=top_5_rows(movies_data,'budget_musd')[['poster_path','title','budget_musd']]\n",
    "HTML(res.to_html(escape=False))"
   ]
  },
  {
   "cell_type": "markdown",
   "metadata": {},
   "source": [
    "__Movies Top 5 - Highest Profit__"
   ]
  },
  {
   "cell_type": "code",
   "execution_count": 7,
   "metadata": {},
   "outputs": [
    {
     "data": {
      "text/html": [
       "<table border=\"1\" class=\"dataframe\">\n",
       "  <thead>\n",
       "    <tr style=\"text-align: right;\">\n",
       "      <th></th>\n",
       "      <th>poster_path</th>\n",
       "      <th>title</th>\n",
       "      <th>profit</th>\n",
       "    </tr>\n",
       "    <tr>\n",
       "      <th>id</th>\n",
       "      <th></th>\n",
       "      <th></th>\n",
       "      <th></th>\n",
       "    </tr>\n",
       "  </thead>\n",
       "  <tbody>\n",
       "    <tr>\n",
       "      <th>19995</th>\n",
       "      <td><img src='http://image.tmdb.org/t/p/w185//btnl50ZDJDSCal2NLQIYWw0XxvH.jpg' style='height:100px;'></td>\n",
       "      <td>Avatar</td>\n",
       "      <td>2550.965087</td>\n",
       "    </tr>\n",
       "    <tr>\n",
       "      <th>140607</th>\n",
       "      <td><img src='http://image.tmdb.org/t/p/w185//9rd002JS49RwDW944fF1wjU8iTV.jpg' style='height:100px;'></td>\n",
       "      <td>Star Wars: The Force Awakens</td>\n",
       "      <td>1823.223624</td>\n",
       "    </tr>\n",
       "    <tr>\n",
       "      <th>597</th>\n",
       "      <td><img src='http://image.tmdb.org/t/p/w185//9xjZS2rlVxm8SFx8kPC3aIGCOYQ.jpg' style='height:100px;'></td>\n",
       "      <td>Titanic</td>\n",
       "      <td>1645.034188</td>\n",
       "    </tr>\n",
       "    <tr>\n",
       "      <th>135397</th>\n",
       "      <td><img src='http://image.tmdb.org/t/p/w185//rhr4y79GpxQF9IsfJItRXVaoGs4.jpg' style='height:100px;'></td>\n",
       "      <td>Jurassic World</td>\n",
       "      <td>1363.528810</td>\n",
       "    </tr>\n",
       "    <tr>\n",
       "      <th>168259</th>\n",
       "      <td><img src='http://image.tmdb.org/t/p/w185//d9jZ2bKZw3ptTuxAyVHA6olPAVs.jpg' style='height:100px;'></td>\n",
       "      <td>Furious 7</td>\n",
       "      <td>1316.249360</td>\n",
       "    </tr>\n",
       "  </tbody>\n",
       "</table>"
      ],
      "text/plain": [
       "<IPython.core.display.HTML object>"
      ]
     },
     "execution_count": 7,
     "metadata": {},
     "output_type": "execute_result"
    }
   ],
   "source": [
    "movies_data['profit'] =  movies_data['revenue_musd'] - movies_data['budget_musd']\n",
    "result=top_5_rows(movies_data,'profit')[['poster_path','title','profit']]\n",
    "HTML(result.to_html(escape=False))"
   ]
  },
  {
   "cell_type": "markdown",
   "metadata": {},
   "source": [
    "__Movies Top 5 - Lowest Profit__"
   ]
  },
  {
   "cell_type": "code",
   "execution_count": 8,
   "metadata": {
    "scrolled": false
   },
   "outputs": [
    {
     "data": {
      "text/html": [
       "<table border=\"1\" class=\"dataframe\">\n",
       "  <thead>\n",
       "    <tr style=\"text-align: right;\">\n",
       "      <th></th>\n",
       "      <th>poster_path</th>\n",
       "      <th>title</th>\n",
       "      <th>profit</th>\n",
       "    </tr>\n",
       "    <tr>\n",
       "      <th>id</th>\n",
       "      <th></th>\n",
       "      <th></th>\n",
       "      <th></th>\n",
       "    </tr>\n",
       "  </thead>\n",
       "  <tbody>\n",
       "    <tr>\n",
       "      <th>57201</th>\n",
       "      <td><img src='http://image.tmdb.org/t/p/w185//b2je2ZybNIzAOL1K1WPbbT6zt2M.jpg' style='height:100px;'></td>\n",
       "      <td>The Lone Ranger</td>\n",
       "      <td>-165.710090</td>\n",
       "    </tr>\n",
       "    <tr>\n",
       "      <th>10733</th>\n",
       "      <td><img src='http://image.tmdb.org/t/p/w185//aZrWYkxCCwSPKp4VjVvn46uHbIX.jpg' style='height:100px;'></td>\n",
       "      <td>The Alamo</td>\n",
       "      <td>-119.180039</td>\n",
       "    </tr>\n",
       "    <tr>\n",
       "      <th>50321</th>\n",
       "      <td><img src='http://image.tmdb.org/t/p/w185//lOKqLd0ud1wdwaPK5h6bGNZIVLT.jpg' style='height:100px;'></td>\n",
       "      <td>Mars Needs Moms</td>\n",
       "      <td>-111.007242</td>\n",
       "    </tr>\n",
       "    <tr>\n",
       "      <th>339964</th>\n",
       "      <td><img src='http://image.tmdb.org/t/p/w185//jfIpMh79fGRqYJ6PwZLCntzgxlF.jpg' style='height:100px;'></td>\n",
       "      <td>Valerian and the City of a Thousand Planets</td>\n",
       "      <td>-107.447384</td>\n",
       "    </tr>\n",
       "    <tr>\n",
       "      <th>1911</th>\n",
       "      <td><img src='http://image.tmdb.org/t/p/w185//7pyhR5K1iv67daYw0DfsmsersKA.jpg' style='height:100px;'></td>\n",
       "      <td>The 13th Warrior</td>\n",
       "      <td>-98.301101</td>\n",
       "    </tr>\n",
       "  </tbody>\n",
       "</table>"
      ],
      "text/plain": [
       "<IPython.core.display.HTML object>"
      ]
     },
     "execution_count": 8,
     "metadata": {},
     "output_type": "execute_result"
    }
   ],
   "source": [
    "res = end_5_rows(movies_data,'profit')[['poster_path','title','profit']]\n",
    "HTML(res.to_html(escape=False))"
   ]
  },
  {
   "cell_type": "markdown",
   "metadata": {},
   "source": [
    "__Movies Top 5 - Highest ROI__"
   ]
  },
  {
   "cell_type": "code",
   "execution_count": 9,
   "metadata": {
    "scrolled": false
   },
   "outputs": [
    {
     "name": "stderr",
     "output_type": "stream",
     "text": [
      "C:\\Users\\ishan\\AppData\\Local\\Temp\\ipykernel_9392\\3916124469.py:2: SettingWithCopyWarning: \n",
      "A value is trying to be set on a copy of a slice from a DataFrame.\n",
      "Try using .loc[row_indexer,col_indexer] = value instead\n",
      "\n",
      "See the caveats in the documentation: https://pandas.pydata.org/pandas-docs/stable/user_guide/indexing.html#returning-a-view-versus-a-copy\n",
      "  movies_budget_10['roi'] = movies_budget_10['revenue_musd']/movies_budget_10['budget_musd']\n"
     ]
    },
    {
     "data": {
      "text/html": [
       "<table border=\"1\" class=\"dataframe\">\n",
       "  <thead>\n",
       "    <tr style=\"text-align: right;\">\n",
       "      <th></th>\n",
       "      <th>poster_path</th>\n",
       "      <th>title</th>\n",
       "      <th>roi</th>\n",
       "    </tr>\n",
       "    <tr>\n",
       "      <th>id</th>\n",
       "      <th></th>\n",
       "      <th></th>\n",
       "      <th></th>\n",
       "    </tr>\n",
       "  </thead>\n",
       "  <tbody>\n",
       "    <tr>\n",
       "      <th>601</th>\n",
       "      <td><img src='http://image.tmdb.org/t/p/w185//cBfkE3HSH1NOyy1ftxlPw2l3ukb.jpg' style='height:100px;'></td>\n",
       "      <td>E.T. the Extra-Terrestrial</td>\n",
       "      <td>75.520507</td>\n",
       "    </tr>\n",
       "    <tr>\n",
       "      <th>11</th>\n",
       "      <td><img src='http://image.tmdb.org/t/p/w185//6FfCtAuVAW8XJjZ7eWeLibRLWTw.jpg' style='height:100px;'></td>\n",
       "      <td>Star Wars</td>\n",
       "      <td>70.490728</td>\n",
       "    </tr>\n",
       "    <tr>\n",
       "      <th>114</th>\n",
       "      <td><img src='http://image.tmdb.org/t/p/w185//hMVMMy1yDUvdufpTl8J8KKNYaZX.jpg' style='height:100px;'></td>\n",
       "      <td>Pretty Woman</td>\n",
       "      <td>33.071429</td>\n",
       "    </tr>\n",
       "    <tr>\n",
       "      <th>77338</th>\n",
       "      <td><img src='http://image.tmdb.org/t/p/w185//w7WxNbb0mcWpwDMd3pJA7LQRfnt.jpg' style='height:100px;'></td>\n",
       "      <td>The Intouchables</td>\n",
       "      <td>32.806221</td>\n",
       "    </tr>\n",
       "    <tr>\n",
       "      <th>1891</th>\n",
       "      <td><img src='http://image.tmdb.org/t/p/w185//7BuH8itoSrLExs2YZSsM01Qk2no.jpg' style='height:100px;'></td>\n",
       "      <td>The Empire Strikes Back</td>\n",
       "      <td>29.911111</td>\n",
       "    </tr>\n",
       "  </tbody>\n",
       "</table>"
      ],
      "text/plain": [
       "<IPython.core.display.HTML object>"
      ]
     },
     "execution_count": 9,
     "metadata": {},
     "output_type": "execute_result"
    }
   ],
   "source": [
    "movies_budget_10 = movies_data[movies_data['budget_musd'] >=10]\n",
    "movies_budget_10['roi'] = movies_budget_10['revenue_musd']/movies_budget_10['budget_musd']\n",
    "res=top_5_rows(movies_budget_10,'roi')[['poster_path','title','roi']]\n",
    "HTML(res.to_html(escape=False))"
   ]
  },
  {
   "cell_type": "markdown",
   "metadata": {},
   "source": [
    "__Movies Top 5 - Lowest ROI__"
   ]
  },
  {
   "cell_type": "code",
   "execution_count": 10,
   "metadata": {},
   "outputs": [
    {
     "data": {
      "text/html": [
       "<table border=\"1\" class=\"dataframe\">\n",
       "  <thead>\n",
       "    <tr style=\"text-align: right;\">\n",
       "      <th></th>\n",
       "      <th>poster_path</th>\n",
       "      <th>title</th>\n",
       "      <th>roi</th>\n",
       "    </tr>\n",
       "    <tr>\n",
       "      <th>id</th>\n",
       "      <th></th>\n",
       "      <th></th>\n",
       "      <th></th>\n",
       "    </tr>\n",
       "  </thead>\n",
       "  <tbody>\n",
       "    <tr>\n",
       "      <th>14844</th>\n",
       "      <td><img src='http://image.tmdb.org/t/p/w185//7qzvS9QKkiDcz1K8EY9Y6ZXkUeD.jpg' style='height:100px;'></td>\n",
       "      <td>Chasing Liberty</td>\n",
       "      <td>5.217391e-07</td>\n",
       "    </tr>\n",
       "    <tr>\n",
       "      <th>18475</th>\n",
       "      <td><img src='http://image.tmdb.org/t/p/w185//eUVEPES8KhnXbTG3G74UZfVQRb7.jpg' style='height:100px;'></td>\n",
       "      <td>The Cookout</td>\n",
       "      <td>7.500000e-07</td>\n",
       "    </tr>\n",
       "    <tr>\n",
       "      <th>33927</th>\n",
       "      <td><img src='http://image.tmdb.org/t/p/w185//kgfvIzCG9PYjYfEtcIPuJpGiY9m.jpg' style='height:100px;'></td>\n",
       "      <td>Deadfall</td>\n",
       "      <td>1.800000e-06</td>\n",
       "    </tr>\n",
       "    <tr>\n",
       "      <th>10944</th>\n",
       "      <td><img src='http://image.tmdb.org/t/p/w185//lcorM51zECU9prrVCvhvpxfkPhb.jpg' style='height:100px;'></td>\n",
       "      <td>In the Cut</td>\n",
       "      <td>1.916667e-06</td>\n",
       "    </tr>\n",
       "    <tr>\n",
       "      <th>98339</th>\n",
       "      <td><img src='http://image.tmdb.org/t/p/w185//zSwCwoi2dQmWcwYT0ea9zH6OXN9.jpg' style='height:100px;'></td>\n",
       "      <td>The Samaritan</td>\n",
       "      <td>2.100833e-04</td>\n",
       "    </tr>\n",
       "  </tbody>\n",
       "</table>"
      ],
      "text/plain": [
       "<IPython.core.display.HTML object>"
      ]
     },
     "execution_count": 10,
     "metadata": {},
     "output_type": "execute_result"
    }
   ],
   "source": [
    "res=end_5_rows(movies_budget_10,'roi')[['poster_path','title','roi']]\n",
    "HTML(res.to_html(escape=False))"
   ]
  },
  {
   "cell_type": "markdown",
   "metadata": {},
   "source": [
    "__Movies Top 5 - Most Votes__"
   ]
  },
  {
   "cell_type": "code",
   "execution_count": 11,
   "metadata": {},
   "outputs": [
    {
     "data": {
      "text/html": [
       "<table border=\"1\" class=\"dataframe\">\n",
       "  <thead>\n",
       "    <tr style=\"text-align: right;\">\n",
       "      <th></th>\n",
       "      <th>poster_path</th>\n",
       "      <th>title</th>\n",
       "      <th>vote_count</th>\n",
       "    </tr>\n",
       "    <tr>\n",
       "      <th>id</th>\n",
       "      <th></th>\n",
       "      <th></th>\n",
       "      <th></th>\n",
       "    </tr>\n",
       "  </thead>\n",
       "  <tbody>\n",
       "    <tr>\n",
       "      <th>27205</th>\n",
       "      <td><img src='http://image.tmdb.org/t/p/w185//9gk7adHYeDvHkCSEqAvQNLV5Uge.jpg' style='height:100px;'></td>\n",
       "      <td>Inception</td>\n",
       "      <td>14075.0</td>\n",
       "    </tr>\n",
       "    <tr>\n",
       "      <th>155</th>\n",
       "      <td><img src='http://image.tmdb.org/t/p/w185//qJ2tW6WMUDux911r6m7haRef0WH.jpg' style='height:100px;'></td>\n",
       "      <td>The Dark Knight</td>\n",
       "      <td>12269.0</td>\n",
       "    </tr>\n",
       "    <tr>\n",
       "      <th>19995</th>\n",
       "      <td><img src='http://image.tmdb.org/t/p/w185//btnl50ZDJDSCal2NLQIYWw0XxvH.jpg' style='height:100px;'></td>\n",
       "      <td>Avatar</td>\n",
       "      <td>12114.0</td>\n",
       "    </tr>\n",
       "    <tr>\n",
       "      <th>24428</th>\n",
       "      <td><img src='http://image.tmdb.org/t/p/w185//RYMX2wcKCBAr24UyPD7xwmjaTn.jpg' style='height:100px;'></td>\n",
       "      <td>The Avengers</td>\n",
       "      <td>12000.0</td>\n",
       "    </tr>\n",
       "    <tr>\n",
       "      <th>293660</th>\n",
       "      <td><img src='http://image.tmdb.org/t/p/w185//fSRb7vyIP8rQpL0I47P3qUsEKX3.jpg' style='height:100px;'></td>\n",
       "      <td>Deadpool</td>\n",
       "      <td>11444.0</td>\n",
       "    </tr>\n",
       "  </tbody>\n",
       "</table>"
      ],
      "text/plain": [
       "<IPython.core.display.HTML object>"
      ]
     },
     "execution_count": 11,
     "metadata": {},
     "output_type": "execute_result"
    }
   ],
   "source": [
    "res=top_5_rows(movies_data,'vote_count')[['poster_path','title','vote_count']]\n",
    "HTML(res.to_html(escape=False))"
   ]
  },
  {
   "cell_type": "markdown",
   "metadata": {},
   "source": [
    "__Movies Top 5 - Highest Rating__"
   ]
  },
  {
   "cell_type": "code",
   "execution_count": 12,
   "metadata": {},
   "outputs": [
    {
     "data": {
      "text/html": [
       "<table border=\"1\" class=\"dataframe\">\n",
       "  <thead>\n",
       "    <tr style=\"text-align: right;\">\n",
       "      <th></th>\n",
       "      <th>poster_path</th>\n",
       "      <th>title</th>\n",
       "      <th>vote_average</th>\n",
       "    </tr>\n",
       "    <tr>\n",
       "      <th>id</th>\n",
       "      <th></th>\n",
       "      <th></th>\n",
       "      <th></th>\n",
       "    </tr>\n",
       "  </thead>\n",
       "  <tbody>\n",
       "    <tr>\n",
       "      <th>130824</th>\n",
       "      <td><img src='http://image.tmdb.org/t/p/w185//k0I65rky3t2HiVciCm1MquV1kSb.jpg' style='height:100px;'></td>\n",
       "      <td>As I Was Moving Ahead Occasionally I Saw Brief Glimpses of Beauty</td>\n",
       "      <td>9.5</td>\n",
       "    </tr>\n",
       "    <tr>\n",
       "      <th>420714</th>\n",
       "      <td><img src='http://image.tmdb.org/t/p/w185//gTvArgUjEUDxYMqJHSwVlrn1Cjk.jpg' style='height:100px;'></td>\n",
       "      <td>Planet Earth II</td>\n",
       "      <td>9.5</td>\n",
       "    </tr>\n",
       "    <tr>\n",
       "      <th>26397</th>\n",
       "      <td><img src='http://image.tmdb.org/t/p/w185//r4sWAokhRr5gYgl5GjzQ8XXCXwI.jpg' style='height:100px;'></td>\n",
       "      <td>The Civil War</td>\n",
       "      <td>9.2</td>\n",
       "    </tr>\n",
       "    <tr>\n",
       "      <th>19404</th>\n",
       "      <td><img src='http://image.tmdb.org/t/p/w185//2CAL2433ZeIihfX1Hb2139CX0pW.jpg' style='height:100px;'></td>\n",
       "      <td>Dilwale Dulhania Le Jayenge</td>\n",
       "      <td>9.1</td>\n",
       "    </tr>\n",
       "    <tr>\n",
       "      <th>409926</th>\n",
       "      <td><img src='http://image.tmdb.org/t/p/w185//mYrnDinyVDhWatHYSwADTTYqoMG.jpg' style='height:100px;'></td>\n",
       "      <td>Cosmos</td>\n",
       "      <td>9.1</td>\n",
       "    </tr>\n",
       "  </tbody>\n",
       "</table>"
      ],
      "text/plain": [
       "<IPython.core.display.HTML object>"
      ]
     },
     "execution_count": 12,
     "metadata": {},
     "output_type": "execute_result"
    }
   ],
   "source": [
    "res = top_5_rows(movies_data[movies_data.vote_count >= 10],'vote_average')[['poster_path','title','vote_average']]\n",
    "HTML(res.to_html(escape=False))"
   ]
  },
  {
   "cell_type": "markdown",
   "metadata": {},
   "source": [
    "__Movies Top 5 - Lowest Rating__"
   ]
  },
  {
   "cell_type": "code",
   "execution_count": 13,
   "metadata": {},
   "outputs": [
    {
     "data": {
      "text/html": [
       "<table border=\"1\" class=\"dataframe\">\n",
       "  <thead>\n",
       "    <tr style=\"text-align: right;\">\n",
       "      <th></th>\n",
       "      <th>poster_path</th>\n",
       "      <th>title</th>\n",
       "      <th>vote_average</th>\n",
       "    </tr>\n",
       "    <tr>\n",
       "      <th>id</th>\n",
       "      <th></th>\n",
       "      <th></th>\n",
       "      <th></th>\n",
       "    </tr>\n",
       "  </thead>\n",
       "  <tbody>\n",
       "    <tr>\n",
       "      <th>398818</th>\n",
       "      <td><img src='http://image.tmdb.org/t/p/w185//tcNniniS4rfqrLH0oORikJfnIwY.jpg' style='height:100px;'></td>\n",
       "      <td>Call Me by Your Name</td>\n",
       "      <td>0.0</td>\n",
       "    </tr>\n",
       "    <tr>\n",
       "      <th>279988</th>\n",
       "      <td><img src='http://image.tmdb.org/t/p/w185//13LTZkxrAkswx2eidHK06XbVH8n.jpg' style='height:100px;'></td>\n",
       "      <td>Extinction: Nature Has Evolved</td>\n",
       "      <td>0.0</td>\n",
       "    </tr>\n",
       "    <tr>\n",
       "      <th>341689</th>\n",
       "      <td><img src='http://image.tmdb.org/t/p/w185//v6mPfyGshwXd1R6kQlMEyZ8Zu2s.jpg' style='height:100px;'></td>\n",
       "      <td>How to Talk to Girls at Parties</td>\n",
       "      <td>0.0</td>\n",
       "    </tr>\n",
       "    <tr>\n",
       "      <th>13383</th>\n",
       "      <td><img src='http://image.tmdb.org/t/p/w185//xurQgTzzYjYRwhWcUwzlE14SInp.jpg' style='height:100px;'></td>\n",
       "      <td>Santa Claus</td>\n",
       "      <td>1.6</td>\n",
       "    </tr>\n",
       "    <tr>\n",
       "      <th>22727</th>\n",
       "      <td><img src='http://image.tmdb.org/t/p/w185//cehviKwq7dOKn8JGqzIizQVW4og.jpg' style='height:100px;'></td>\n",
       "      <td>The Beast of Yucca Flats</td>\n",
       "      <td>1.6</td>\n",
       "    </tr>\n",
       "  </tbody>\n",
       "</table>"
      ],
      "text/plain": [
       "<IPython.core.display.HTML object>"
      ]
     },
     "execution_count": 13,
     "metadata": {},
     "output_type": "execute_result"
    }
   ],
   "source": [
    "res = end_5_rows(movies_data[movies_data.vote_count >= 10],'vote_average')[['poster_path','title','vote_average']]\n",
    "HTML(res.to_html(escape=False))"
   ]
  },
  {
   "cell_type": "markdown",
   "metadata": {},
   "source": [
    "__Movies Top 5 - Most Popular__"
   ]
  },
  {
   "cell_type": "code",
   "execution_count": 14,
   "metadata": {},
   "outputs": [
    {
     "data": {
      "text/html": [
       "<table border=\"1\" class=\"dataframe\">\n",
       "  <thead>\n",
       "    <tr style=\"text-align: right;\">\n",
       "      <th></th>\n",
       "      <th>poster_path</th>\n",
       "      <th>title</th>\n",
       "      <th>popularity</th>\n",
       "    </tr>\n",
       "    <tr>\n",
       "      <th>id</th>\n",
       "      <th></th>\n",
       "      <th></th>\n",
       "      <th></th>\n",
       "    </tr>\n",
       "  </thead>\n",
       "  <tbody>\n",
       "    <tr>\n",
       "      <th>211672</th>\n",
       "      <td><img src='http://image.tmdb.org/t/p/w185//tMaGZ2HR8HAFwkx4YRib0CDVfNT.jpg' style='height:100px;'></td>\n",
       "      <td>Minions</td>\n",
       "      <td>547.488298</td>\n",
       "    </tr>\n",
       "    <tr>\n",
       "      <th>297762</th>\n",
       "      <td><img src='http://image.tmdb.org/t/p/w185//gfJGlDaHuWimErCr5Ql0I8x9QSy.jpg' style='height:100px;'></td>\n",
       "      <td>Wonder Woman</td>\n",
       "      <td>294.337037</td>\n",
       "    </tr>\n",
       "    <tr>\n",
       "      <th>321612</th>\n",
       "      <td><img src='http://image.tmdb.org/t/p/w185//tWqifoYuwLETmmasnGHO7xBjEtt.jpg' style='height:100px;'></td>\n",
       "      <td>Beauty and the Beast</td>\n",
       "      <td>287.253654</td>\n",
       "    </tr>\n",
       "    <tr>\n",
       "      <th>339403</th>\n",
       "      <td><img src='http://image.tmdb.org/t/p/w185//rmnQ9jKW72bHu8uKlMjPIb2VLMI.jpg' style='height:100px;'></td>\n",
       "      <td>Baby Driver</td>\n",
       "      <td>228.032744</td>\n",
       "    </tr>\n",
       "    <tr>\n",
       "      <th>177572</th>\n",
       "      <td><img src='http://image.tmdb.org/t/p/w185//xozrGME58olN1xBhtxmjpOoY0jH.jpg' style='height:100px;'></td>\n",
       "      <td>Big Hero 6</td>\n",
       "      <td>213.849907</td>\n",
       "    </tr>\n",
       "  </tbody>\n",
       "</table>"
      ],
      "text/plain": [
       "<IPython.core.display.HTML object>"
      ]
     },
     "execution_count": 14,
     "metadata": {},
     "output_type": "execute_result"
    }
   ],
   "source": [
    "res=top_5_rows(movies_data,'popularity')[['poster_path','title','popularity']]\n",
    "HTML(res.to_html(escape=False))"
   ]
  },
  {
   "cell_type": "markdown",
   "metadata": {},
   "source": [
    "## Find your next Movie"
   ]
  },
  {
   "cell_type": "markdown",
   "metadata": {},
   "source": [
    "3. __Filter__ the Dataset for movies that meet the following conditions:"
   ]
  },
  {
   "cell_type": "markdown",
   "metadata": {},
   "source": [
    "__Search 1: Science Fiction Action Movie with Bruce Willis (sorted from high to low Rating)__"
   ]
  },
  {
   "cell_type": "markdown",
   "metadata": {},
   "source": [
    "__Search 2: Movies with Uma Thurman and directed by Quentin Tarantino (sorted from short to long runtime)__"
   ]
  },
  {
   "cell_type": "markdown",
   "metadata": {},
   "source": [
    "__Search 3: Most Successful Pixar Studio Movies between 2010 and 2015 (sorted from high to low Revenue)__"
   ]
  },
  {
   "cell_type": "markdown",
   "metadata": {},
   "source": [
    "__Search 4: Action or Thriller Movie with original language English and minimum Rating of 7.5 (most recent movies first)__"
   ]
  },
  {
   "cell_type": "code",
   "execution_count": 15,
   "metadata": {},
   "outputs": [
    {
     "data": {
      "text/html": [
       "<table border=\"1\" class=\"dataframe\">\n",
       "  <thead>\n",
       "    <tr style=\"text-align: right;\">\n",
       "      <th></th>\n",
       "      <th>poster_path</th>\n",
       "      <th>title</th>\n",
       "      <th>vote_average</th>\n",
       "    </tr>\n",
       "    <tr>\n",
       "      <th>id</th>\n",
       "      <th></th>\n",
       "      <th></th>\n",
       "      <th></th>\n",
       "    </tr>\n",
       "  </thead>\n",
       "  <tbody>\n",
       "    <tr>\n",
       "      <th>63</th>\n",
       "      <td><img src='http://image.tmdb.org/t/p/w185//2F9KcDGZbEdaQN5jV9ziyRZYY7u.jpg' style='height:100px;'></td>\n",
       "      <td>Twelve Monkeys</td>\n",
       "      <td>7.4</td>\n",
       "    </tr>\n",
       "    <tr>\n",
       "      <th>18</th>\n",
       "      <td><img src='http://image.tmdb.org/t/p/w185//fPtlCO1yQtnoLHOwKtWz7db6RGU.jpg' style='height:100px;'></td>\n",
       "      <td>The Fifth Element</td>\n",
       "      <td>7.3</td>\n",
       "    </tr>\n",
       "    <tr>\n",
       "      <th>9741</th>\n",
       "      <td><img src='http://image.tmdb.org/t/p/w185//kXkV3RKsSf49wbSnUerKZFMQORB.jpg' style='height:100px;'></td>\n",
       "      <td>Unbreakable</td>\n",
       "      <td>6.9</td>\n",
       "    </tr>\n",
       "    <tr>\n",
       "      <th>59967</th>\n",
       "      <td><img src='http://image.tmdb.org/t/p/w185//sNjL6SqErDBE8OUZlrDLkexfsCj.jpg' style='height:100px;'></td>\n",
       "      <td>Looper</td>\n",
       "      <td>6.6</td>\n",
       "    </tr>\n",
       "    <tr>\n",
       "      <th>95</th>\n",
       "      <td><img src='http://image.tmdb.org/t/p/w185//fMtOCd0EAdAzKtGLQiHjSUvbdNc.jpg' style='height:100px;'></td>\n",
       "      <td>Armageddon</td>\n",
       "      <td>6.5</td>\n",
       "    </tr>\n",
       "  </tbody>\n",
       "</table>"
      ],
      "text/plain": [
       "<IPython.core.display.HTML object>"
      ]
     },
     "execution_count": 15,
     "metadata": {},
     "output_type": "execute_result"
    }
   ],
   "source": [
    "#movies_data['genre_list'] = movies_data['genres'].str.split('|')\n",
    "#movies_data['cast_list'] = movies_data['cast'].str.split('|')\n",
    "#movies_data[['title','genre_list','cast_list','vote_average']]\n",
    "science_fiction_mask = movies_data.genres.str.contains('Science Fiction',na=False)\n",
    "bruce_willis_movies = movies_data.cast.str.contains('Bruce Willis')\n",
    "res=top_5_rows(movies_data.loc[science_fiction_mask & bruce_willis_movies],'vote_average')[['poster_path','title','vote_average']]\n",
    "HTML(res.to_html(escape=False))"
   ]
  },
  {
   "cell_type": "markdown",
   "metadata": {},
   "source": [
    "## Most successful Pixar Studio movies between 2010 and 2015(high revenue)"
   ]
  },
  {
   "cell_type": "code",
   "execution_count": 16,
   "metadata": {},
   "outputs": [
    {
     "data": {
      "text/html": [
       "<table border=\"1\" class=\"dataframe\">\n",
       "  <thead>\n",
       "    <tr style=\"text-align: right;\">\n",
       "      <th></th>\n",
       "      <th>poster_path</th>\n",
       "      <th>title</th>\n",
       "      <th>release_date</th>\n",
       "      <th>revenue_musd</th>\n",
       "    </tr>\n",
       "    <tr>\n",
       "      <th>id</th>\n",
       "      <th></th>\n",
       "      <th></th>\n",
       "      <th></th>\n",
       "      <th></th>\n",
       "    </tr>\n",
       "  </thead>\n",
       "  <tbody>\n",
       "    <tr>\n",
       "      <th>10193</th>\n",
       "      <td><img src='http://image.tmdb.org/t/p/w185//amY0NH1ksd9xJ9boXAMmods6U0D.jpg' style='height:100px;'></td>\n",
       "      <td>Toy Story 3</td>\n",
       "      <td>2010-06-16</td>\n",
       "      <td>1066.969703</td>\n",
       "    </tr>\n",
       "    <tr>\n",
       "      <th>150540</th>\n",
       "      <td><img src='http://image.tmdb.org/t/p/w185//lRHE0vzf3oYJrhbsHXjIkF4Tl5A.jpg' style='height:100px;'></td>\n",
       "      <td>Inside Out</td>\n",
       "      <td>2015-06-09</td>\n",
       "      <td>857.611174</td>\n",
       "    </tr>\n",
       "    <tr>\n",
       "      <th>62211</th>\n",
       "      <td><img src='http://image.tmdb.org/t/p/w185//tyHHjZEzJutWggujN1KP0a1jfLX.jpg' style='height:100px;'></td>\n",
       "      <td>Monsters University</td>\n",
       "      <td>2013-06-20</td>\n",
       "      <td>743.559607</td>\n",
       "    </tr>\n",
       "    <tr>\n",
       "      <th>49013</th>\n",
       "      <td><img src='http://image.tmdb.org/t/p/w185//okIz1HyxeVOMzYwwHUjH2pHi74I.jpg' style='height:100px;'></td>\n",
       "      <td>Cars 2</td>\n",
       "      <td>2011-06-11</td>\n",
       "      <td>559.852396</td>\n",
       "    </tr>\n",
       "    <tr>\n",
       "      <th>62177</th>\n",
       "      <td><img src='http://image.tmdb.org/t/p/w185//8l0pzWBrStFtbZiqeu0cGhxGKkT.jpg' style='height:100px;'></td>\n",
       "      <td>Brave</td>\n",
       "      <td>2012-06-21</td>\n",
       "      <td>538.983207</td>\n",
       "    </tr>\n",
       "  </tbody>\n",
       "</table>"
      ],
      "text/plain": [
       "<IPython.core.display.HTML object>"
      ]
     },
     "execution_count": 16,
     "metadata": {},
     "output_type": "execute_result"
    }
   ],
   "source": [
    "pixar_movies = movies_data.production_companies.str.contains('Pixar')\n",
    "movies_2010_2015 = (2010 <= movies_data.release_date.dt.year) &  (movies_data.release_date.dt.year <= 2015)\n",
    "#revenue_not_na = movies_data.revenue_musd.notna()\n",
    "res = top_5_rows(movies_data[pixar_movies & movies_2010_2015],'revenue_musd')\\\n",
    "[[\"poster_path\",\"title\",\"release_date\",\"revenue_musd\"]]\n",
    "HTML(res.to_html(escape=False))"
   ]
  },
  {
   "cell_type": "markdown",
   "metadata": {},
   "source": [
    "## Are Franchises more successful?"
   ]
  },
  {
   "cell_type": "markdown",
   "metadata": {},
   "source": [
    "4. __Analyze__ the Dataset and __find out whether Franchises (Movies that belong to a collection) are more successful than stand-alone movies__ in terms of:"
   ]
  },
  {
   "cell_type": "markdown",
   "metadata": {},
   "source": [
    "- mean revenue\n",
    "- median Return on Investment\n",
    "- mean budget raised\n",
    "- mean popularity\n",
    "- mean rating"
   ]
  },
  {
   "cell_type": "markdown",
   "metadata": {},
   "source": [
    "hint: use groupby()"
   ]
  },
  {
   "cell_type": "markdown",
   "metadata": {},
   "source": [
    "__Franchise vs. Stand-alone: Average Revenue__"
   ]
  },
  {
   "cell_type": "code",
   "execution_count": 17,
   "metadata": {
    "scrolled": true
   },
   "outputs": [
    {
     "data": {
      "text/plain": [
       "False    40228\n",
       "True      4463\n",
       "Name: franchise, dtype: int64"
      ]
     },
     "execution_count": 17,
     "metadata": {},
     "output_type": "execute_result"
    }
   ],
   "source": [
    "movies_data['franchise'] = movies_data.belongs_to_collection.notna()\n",
    "movies_data.franchise.value_counts()"
   ]
  },
  {
   "cell_type": "code",
   "execution_count": 18,
   "metadata": {},
   "outputs": [
    {
     "data": {
      "text/plain": [
       "franchise\n",
       "False     44.742814\n",
       "True     165.708193\n",
       "Name: revenue_musd, dtype: float64"
      ]
     },
     "execution_count": 18,
     "metadata": {},
     "output_type": "execute_result"
    }
   ],
   "source": [
    "movies_data.groupby('franchise').revenue_musd.mean()"
   ]
  },
  {
   "cell_type": "markdown",
   "metadata": {},
   "source": [
    "__Franchise vs. Stand-alone: Return on Investment / Profitability (median)__"
   ]
  },
  {
   "cell_type": "code",
   "execution_count": 19,
   "metadata": {},
   "outputs": [
    {
     "data": {
      "text/plain": [
       "franchise\n",
       "False    1.619699\n",
       "True     3.709195\n",
       "Name: roi, dtype: float64"
      ]
     },
     "execution_count": 19,
     "metadata": {},
     "output_type": "execute_result"
    }
   ],
   "source": [
    "movies_data['roi'] = movies_data.revenue_musd.div(movies_data.budget_musd)\n",
    "movies_data.groupby('franchise').roi.median()"
   ]
  },
  {
   "cell_type": "markdown",
   "metadata": {},
   "source": [
    "__Franchise vs. Stand-alone: Average Budget__"
   ]
  },
  {
   "cell_type": "code",
   "execution_count": 20,
   "metadata": {},
   "outputs": [
    {
     "data": {
      "text/plain": [
       "franchise\n",
       "False    18.047741\n",
       "True     38.319847\n",
       "Name: budget_musd, dtype: float64"
      ]
     },
     "execution_count": 20,
     "metadata": {},
     "output_type": "execute_result"
    }
   ],
   "source": [
    "movies_data.groupby('franchise').budget_musd.mean()"
   ]
  },
  {
   "cell_type": "markdown",
   "metadata": {},
   "source": [
    "__Franchise vs. Stand-alone: Average Popularity__"
   ]
  },
  {
   "cell_type": "code",
   "execution_count": 21,
   "metadata": {},
   "outputs": [
    {
     "data": {
      "text/plain": [
       "franchise\n",
       "False    2.592726\n",
       "True     6.245051\n",
       "Name: popularity, dtype: float64"
      ]
     },
     "execution_count": 21,
     "metadata": {},
     "output_type": "execute_result"
    }
   ],
   "source": [
    "movies_data.groupby('franchise').popularity.mean()"
   ]
  },
  {
   "cell_type": "markdown",
   "metadata": {},
   "source": [
    "__Franchise vs. Stand-alone: Average Rating__"
   ]
  },
  {
   "cell_type": "code",
   "execution_count": 22,
   "metadata": {},
   "outputs": [
    {
     "data": {
      "text/plain": [
       "franchise\n",
       "False    6.008787\n",
       "True     5.956806\n",
       "Name: vote_average, dtype: float64"
      ]
     },
     "execution_count": 22,
     "metadata": {},
     "output_type": "execute_result"
    }
   ],
   "source": [
    "movies_data.groupby('franchise').vote_average.mean()"
   ]
  },
  {
   "cell_type": "markdown",
   "metadata": {},
   "source": [
    "## Most Successful Franchises"
   ]
  },
  {
   "cell_type": "markdown",
   "metadata": {},
   "source": [
    "5. __Find__ the __most successful Franchises__ in terms of"
   ]
  },
  {
   "cell_type": "markdown",
   "metadata": {},
   "source": [
    "- __total number of movies__\n",
    "- __total & mean budget__\n",
    "- __total & mean revenue__\n",
    "- __mean rating__"
   ]
  },
  {
   "cell_type": "code",
   "execution_count": 23,
   "metadata": {},
   "outputs": [
    {
     "data": {
      "text/html": [
       "<div>\n",
       "<style scoped>\n",
       "    .dataframe tbody tr th:only-of-type {\n",
       "        vertical-align: middle;\n",
       "    }\n",
       "\n",
       "    .dataframe tbody tr th {\n",
       "        vertical-align: top;\n",
       "    }\n",
       "\n",
       "    .dataframe thead tr th {\n",
       "        text-align: left;\n",
       "    }\n",
       "\n",
       "    .dataframe thead tr:last-of-type th {\n",
       "        text-align: right;\n",
       "    }\n",
       "</style>\n",
       "<table border=\"1\" class=\"dataframe\">\n",
       "  <thead>\n",
       "    <tr>\n",
       "      <th></th>\n",
       "      <th>title</th>\n",
       "      <th colspan=\"2\" halign=\"left\">budget_musd</th>\n",
       "      <th colspan=\"2\" halign=\"left\">revenue_musd</th>\n",
       "      <th>vote_average</th>\n",
       "    </tr>\n",
       "    <tr>\n",
       "      <th></th>\n",
       "      <th>count</th>\n",
       "      <th>sum</th>\n",
       "      <th>mean</th>\n",
       "      <th>sum</th>\n",
       "      <th>mean</th>\n",
       "      <th>mean</th>\n",
       "    </tr>\n",
       "    <tr>\n",
       "      <th>belongs_to_collection</th>\n",
       "      <th></th>\n",
       "      <th></th>\n",
       "      <th></th>\n",
       "      <th></th>\n",
       "      <th></th>\n",
       "      <th></th>\n",
       "    </tr>\n",
       "  </thead>\n",
       "  <tbody>\n",
       "    <tr>\n",
       "      <th>... Has Fallen Collection</th>\n",
       "      <td>2</td>\n",
       "      <td>130.0</td>\n",
       "      <td>65.0</td>\n",
       "      <td>366.780087</td>\n",
       "      <td>183.390043</td>\n",
       "      <td>6.00</td>\n",
       "    </tr>\n",
       "    <tr>\n",
       "      <th>00 Schneider Filmreihe</th>\n",
       "      <td>1</td>\n",
       "      <td>0.0</td>\n",
       "      <td>NaN</td>\n",
       "      <td>0.000000</td>\n",
       "      <td>NaN</td>\n",
       "      <td>6.50</td>\n",
       "    </tr>\n",
       "    <tr>\n",
       "      <th>08/15 Collection</th>\n",
       "      <td>1</td>\n",
       "      <td>0.0</td>\n",
       "      <td>NaN</td>\n",
       "      <td>0.000000</td>\n",
       "      <td>NaN</td>\n",
       "      <td>5.90</td>\n",
       "    </tr>\n",
       "    <tr>\n",
       "      <th>100 Girls Collection</th>\n",
       "      <td>2</td>\n",
       "      <td>0.0</td>\n",
       "      <td>NaN</td>\n",
       "      <td>0.000000</td>\n",
       "      <td>NaN</td>\n",
       "      <td>5.15</td>\n",
       "    </tr>\n",
       "    <tr>\n",
       "      <th>101 Dalmatians (Animated) Collection</th>\n",
       "      <td>2</td>\n",
       "      <td>4.0</td>\n",
       "      <td>4.0</td>\n",
       "      <td>215.880014</td>\n",
       "      <td>215.880014</td>\n",
       "      <td>6.25</td>\n",
       "    </tr>\n",
       "  </tbody>\n",
       "</table>\n",
       "</div>"
      ],
      "text/plain": [
       "                                     title budget_musd       revenue_musd  \\\n",
       "                                     count         sum  mean          sum   \n",
       "belongs_to_collection                                                       \n",
       "... Has Fallen Collection                2       130.0  65.0   366.780087   \n",
       "00 Schneider Filmreihe                   1         0.0   NaN     0.000000   \n",
       "08/15 Collection                         1         0.0   NaN     0.000000   \n",
       "100 Girls Collection                     2         0.0   NaN     0.000000   \n",
       "101 Dalmatians (Animated) Collection     2         4.0   4.0   215.880014   \n",
       "\n",
       "                                                 vote_average  \n",
       "                                            mean         mean  \n",
       "belongs_to_collection                                          \n",
       "... Has Fallen Collection             183.390043         6.00  \n",
       "00 Schneider Filmreihe                       NaN         6.50  \n",
       "08/15 Collection                             NaN         5.90  \n",
       "100 Girls Collection                         NaN         5.15  \n",
       "101 Dalmatians (Animated) Collection  215.880014         6.25  "
      ]
     },
     "execution_count": 23,
     "metadata": {},
     "output_type": "execute_result"
    }
   ],
   "source": [
    "franchises = movies_data.loc[movies_data.franchise].groupby('belongs_to_collection').agg({'title':'count',\n",
    "                                                                            'budget_musd':['sum','mean'],\n",
    "                                                                            'revenue_musd':['sum','mean'],\n",
    "                                                                            'vote_average':'mean'})\n",
    "franchises.head()"
   ]
  },
  {
   "cell_type": "code",
   "execution_count": 24,
   "metadata": {},
   "outputs": [
    {
     "data": {
      "text/html": [
       "<div>\n",
       "<style scoped>\n",
       "    .dataframe tbody tr th:only-of-type {\n",
       "        vertical-align: middle;\n",
       "    }\n",
       "\n",
       "    .dataframe tbody tr th {\n",
       "        vertical-align: top;\n",
       "    }\n",
       "\n",
       "    .dataframe thead tr th {\n",
       "        text-align: left;\n",
       "    }\n",
       "\n",
       "    .dataframe thead tr:last-of-type th {\n",
       "        text-align: right;\n",
       "    }\n",
       "</style>\n",
       "<table border=\"1\" class=\"dataframe\">\n",
       "  <thead>\n",
       "    <tr>\n",
       "      <th></th>\n",
       "      <th>title</th>\n",
       "      <th colspan=\"2\" halign=\"left\">budget_musd</th>\n",
       "      <th colspan=\"2\" halign=\"left\">revenue_musd</th>\n",
       "      <th>vote_average</th>\n",
       "    </tr>\n",
       "    <tr>\n",
       "      <th></th>\n",
       "      <th>count</th>\n",
       "      <th>sum</th>\n",
       "      <th>mean</th>\n",
       "      <th>sum</th>\n",
       "      <th>mean</th>\n",
       "      <th>mean</th>\n",
       "    </tr>\n",
       "    <tr>\n",
       "      <th>belongs_to_collection</th>\n",
       "      <th></th>\n",
       "      <th></th>\n",
       "      <th></th>\n",
       "      <th></th>\n",
       "      <th></th>\n",
       "      <th></th>\n",
       "    </tr>\n",
       "  </thead>\n",
       "  <tbody>\n",
       "    <tr>\n",
       "      <th>Harry Potter Collection</th>\n",
       "      <td>8</td>\n",
       "      <td>1280.00</td>\n",
       "      <td>160.000000</td>\n",
       "      <td>7707.367425</td>\n",
       "      <td>963.420928</td>\n",
       "      <td>7.537500</td>\n",
       "    </tr>\n",
       "    <tr>\n",
       "      <th>Star Wars Collection</th>\n",
       "      <td>8</td>\n",
       "      <td>854.35</td>\n",
       "      <td>106.793750</td>\n",
       "      <td>7434.494790</td>\n",
       "      <td>929.311849</td>\n",
       "      <td>7.375000</td>\n",
       "    </tr>\n",
       "    <tr>\n",
       "      <th>James Bond Collection</th>\n",
       "      <td>26</td>\n",
       "      <td>1539.65</td>\n",
       "      <td>59.217308</td>\n",
       "      <td>7106.970239</td>\n",
       "      <td>273.345009</td>\n",
       "      <td>6.338462</td>\n",
       "    </tr>\n",
       "    <tr>\n",
       "      <th>The Fast and the Furious Collection</th>\n",
       "      <td>8</td>\n",
       "      <td>1009.00</td>\n",
       "      <td>126.125000</td>\n",
       "      <td>5125.098793</td>\n",
       "      <td>640.637349</td>\n",
       "      <td>6.662500</td>\n",
       "    </tr>\n",
       "    <tr>\n",
       "      <th>Pirates of the Caribbean Collection</th>\n",
       "      <td>5</td>\n",
       "      <td>1250.00</td>\n",
       "      <td>250.000000</td>\n",
       "      <td>4521.576826</td>\n",
       "      <td>904.315365</td>\n",
       "      <td>6.880000</td>\n",
       "    </tr>\n",
       "    <tr>\n",
       "      <th>Transformers Collection</th>\n",
       "      <td>5</td>\n",
       "      <td>965.00</td>\n",
       "      <td>193.000000</td>\n",
       "      <td>4366.101244</td>\n",
       "      <td>873.220249</td>\n",
       "      <td>6.140000</td>\n",
       "    </tr>\n",
       "    <tr>\n",
       "      <th>Despicable Me Collection</th>\n",
       "      <td>6</td>\n",
       "      <td>299.00</td>\n",
       "      <td>74.750000</td>\n",
       "      <td>3691.070216</td>\n",
       "      <td>922.767554</td>\n",
       "      <td>6.783333</td>\n",
       "    </tr>\n",
       "    <tr>\n",
       "      <th>The Twilight Collection</th>\n",
       "      <td>5</td>\n",
       "      <td>385.00</td>\n",
       "      <td>77.000000</td>\n",
       "      <td>3342.107290</td>\n",
       "      <td>668.421458</td>\n",
       "      <td>5.840000</td>\n",
       "    </tr>\n",
       "    <tr>\n",
       "      <th>Ice Age Collection</th>\n",
       "      <td>5</td>\n",
       "      <td>429.00</td>\n",
       "      <td>85.800000</td>\n",
       "      <td>3216.708553</td>\n",
       "      <td>643.341711</td>\n",
       "      <td>6.380000</td>\n",
       "    </tr>\n",
       "    <tr>\n",
       "      <th>Jurassic Park Collection</th>\n",
       "      <td>4</td>\n",
       "      <td>379.00</td>\n",
       "      <td>94.750000</td>\n",
       "      <td>3031.484143</td>\n",
       "      <td>757.871036</td>\n",
       "      <td>6.500000</td>\n",
       "    </tr>\n",
       "    <tr>\n",
       "      <th>Shrek Collection</th>\n",
       "      <td>5</td>\n",
       "      <td>535.00</td>\n",
       "      <td>133.750000</td>\n",
       "      <td>2955.807008</td>\n",
       "      <td>738.951752</td>\n",
       "      <td>6.460000</td>\n",
       "    </tr>\n",
       "    <tr>\n",
       "      <th>The Hunger Games Collection</th>\n",
       "      <td>4</td>\n",
       "      <td>490.00</td>\n",
       "      <td>122.500000</td>\n",
       "      <td>2944.162634</td>\n",
       "      <td>736.040659</td>\n",
       "      <td>6.875000</td>\n",
       "    </tr>\n",
       "    <tr>\n",
       "      <th>The Hobbit Collection</th>\n",
       "      <td>3</td>\n",
       "      <td>750.00</td>\n",
       "      <td>250.000000</td>\n",
       "      <td>2935.523356</td>\n",
       "      <td>978.507785</td>\n",
       "      <td>7.233333</td>\n",
       "    </tr>\n",
       "    <tr>\n",
       "      <th>The Avengers Collection</th>\n",
       "      <td>2</td>\n",
       "      <td>500.00</td>\n",
       "      <td>250.000000</td>\n",
       "      <td>2924.961604</td>\n",
       "      <td>1462.480802</td>\n",
       "      <td>7.350000</td>\n",
       "    </tr>\n",
       "    <tr>\n",
       "      <th>The Lord of the Rings Collection</th>\n",
       "      <td>3</td>\n",
       "      <td>266.00</td>\n",
       "      <td>88.666667</td>\n",
       "      <td>2916.544743</td>\n",
       "      <td>972.181581</td>\n",
       "      <td>8.033333</td>\n",
       "    </tr>\n",
       "  </tbody>\n",
       "</table>\n",
       "</div>"
      ],
      "text/plain": [
       "                                    title budget_musd              \\\n",
       "                                    count         sum        mean   \n",
       "belongs_to_collection                                               \n",
       "Harry Potter Collection                 8     1280.00  160.000000   \n",
       "Star Wars Collection                    8      854.35  106.793750   \n",
       "James Bond Collection                  26     1539.65   59.217308   \n",
       "The Fast and the Furious Collection     8     1009.00  126.125000   \n",
       "Pirates of the Caribbean Collection     5     1250.00  250.000000   \n",
       "Transformers Collection                 5      965.00  193.000000   \n",
       "Despicable Me Collection                6      299.00   74.750000   \n",
       "The Twilight Collection                 5      385.00   77.000000   \n",
       "Ice Age Collection                      5      429.00   85.800000   \n",
       "Jurassic Park Collection                4      379.00   94.750000   \n",
       "Shrek Collection                        5      535.00  133.750000   \n",
       "The Hunger Games Collection             4      490.00  122.500000   \n",
       "The Hobbit Collection                   3      750.00  250.000000   \n",
       "The Avengers Collection                 2      500.00  250.000000   \n",
       "The Lord of the Rings Collection        3      266.00   88.666667   \n",
       "\n",
       "                                    revenue_musd              vote_average  \n",
       "                                             sum         mean         mean  \n",
       "belongs_to_collection                                                       \n",
       "Harry Potter Collection              7707.367425   963.420928     7.537500  \n",
       "Star Wars Collection                 7434.494790   929.311849     7.375000  \n",
       "James Bond Collection                7106.970239   273.345009     6.338462  \n",
       "The Fast and the Furious Collection  5125.098793   640.637349     6.662500  \n",
       "Pirates of the Caribbean Collection  4521.576826   904.315365     6.880000  \n",
       "Transformers Collection              4366.101244   873.220249     6.140000  \n",
       "Despicable Me Collection             3691.070216   922.767554     6.783333  \n",
       "The Twilight Collection              3342.107290   668.421458     5.840000  \n",
       "Ice Age Collection                   3216.708553   643.341711     6.380000  \n",
       "Jurassic Park Collection             3031.484143   757.871036     6.500000  \n",
       "Shrek Collection                     2955.807008   738.951752     6.460000  \n",
       "The Hunger Games Collection          2944.162634   736.040659     6.875000  \n",
       "The Hobbit Collection                2935.523356   978.507785     7.233333  \n",
       "The Avengers Collection              2924.961604  1462.480802     7.350000  \n",
       "The Lord of the Rings Collection     2916.544743   972.181581     8.033333  "
      ]
     },
     "execution_count": 24,
     "metadata": {},
     "output_type": "execute_result"
    }
   ],
   "source": [
    "franchises.nlargest(15,('revenue_musd','sum'))"
   ]
  },
  {
   "cell_type": "markdown",
   "metadata": {},
   "source": [
    "## Most Successful Directors"
   ]
  },
  {
   "cell_type": "markdown",
   "metadata": {},
   "source": [
    "6. __Find__ the __most successful Directors__ in terms of"
   ]
  },
  {
   "cell_type": "markdown",
   "metadata": {},
   "source": [
    "- __total number of movies__\n",
    "- __total revenue__\n",
    "- __mean rating__"
   ]
  },
  {
   "cell_type": "code",
   "execution_count": 25,
   "metadata": {},
   "outputs": [
    {
     "data": {
      "text/html": [
       "<div>\n",
       "<style scoped>\n",
       "    .dataframe tbody tr th:only-of-type {\n",
       "        vertical-align: middle;\n",
       "    }\n",
       "\n",
       "    .dataframe tbody tr th {\n",
       "        vertical-align: top;\n",
       "    }\n",
       "\n",
       "    .dataframe thead th {\n",
       "        text-align: right;\n",
       "    }\n",
       "</style>\n",
       "<table border=\"1\" class=\"dataframe\">\n",
       "  <thead>\n",
       "    <tr style=\"text-align: right;\">\n",
       "      <th></th>\n",
       "      <th>title</th>\n",
       "      <th>revenue_musd</th>\n",
       "      <th>vote_average</th>\n",
       "    </tr>\n",
       "    <tr>\n",
       "      <th>director</th>\n",
       "      <th></th>\n",
       "      <th></th>\n",
       "      <th></th>\n",
       "    </tr>\n",
       "  </thead>\n",
       "  <tbody>\n",
       "    <tr>\n",
       "      <th>Steven Spielberg</th>\n",
       "      <td>33</td>\n",
       "      <td>9256.621422</td>\n",
       "      <td>6.893939</td>\n",
       "    </tr>\n",
       "    <tr>\n",
       "      <th>Peter Jackson</th>\n",
       "      <td>13</td>\n",
       "      <td>6528.244659</td>\n",
       "      <td>7.138462</td>\n",
       "    </tr>\n",
       "    <tr>\n",
       "      <th>Michael Bay</th>\n",
       "      <td>13</td>\n",
       "      <td>6437.466781</td>\n",
       "      <td>6.392308</td>\n",
       "    </tr>\n",
       "    <tr>\n",
       "      <th>James Cameron</th>\n",
       "      <td>11</td>\n",
       "      <td>5900.610310</td>\n",
       "      <td>6.927273</td>\n",
       "    </tr>\n",
       "    <tr>\n",
       "      <th>David Yates</th>\n",
       "      <td>9</td>\n",
       "      <td>5334.563196</td>\n",
       "      <td>6.700000</td>\n",
       "    </tr>\n",
       "    <tr>\n",
       "      <th>Christopher Nolan</th>\n",
       "      <td>11</td>\n",
       "      <td>4747.408665</td>\n",
       "      <td>7.618182</td>\n",
       "    </tr>\n",
       "    <tr>\n",
       "      <th>Robert Zemeckis</th>\n",
       "      <td>19</td>\n",
       "      <td>4138.233542</td>\n",
       "      <td>6.794737</td>\n",
       "    </tr>\n",
       "    <tr>\n",
       "      <th>Tim Burton</th>\n",
       "      <td>21</td>\n",
       "      <td>4032.916124</td>\n",
       "      <td>6.733333</td>\n",
       "    </tr>\n",
       "    <tr>\n",
       "      <th>Ridley Scott</th>\n",
       "      <td>24</td>\n",
       "      <td>3917.529240</td>\n",
       "      <td>6.604167</td>\n",
       "    </tr>\n",
       "    <tr>\n",
       "      <th>Chris Columbus</th>\n",
       "      <td>15</td>\n",
       "      <td>3866.836869</td>\n",
       "      <td>6.440000</td>\n",
       "    </tr>\n",
       "    <tr>\n",
       "      <th>Roland Emmerich</th>\n",
       "      <td>16</td>\n",
       "      <td>3798.402596</td>\n",
       "      <td>5.750000</td>\n",
       "    </tr>\n",
       "    <tr>\n",
       "      <th>Ron Howard</th>\n",
       "      <td>26</td>\n",
       "      <td>3714.152341</td>\n",
       "      <td>6.480769</td>\n",
       "    </tr>\n",
       "    <tr>\n",
       "      <th>J.J. Abrams</th>\n",
       "      <td>5</td>\n",
       "      <td>3579.215315</td>\n",
       "      <td>7.080000</td>\n",
       "    </tr>\n",
       "    <tr>\n",
       "      <th>Gore Verbinski</th>\n",
       "      <td>10</td>\n",
       "      <td>3575.339236</td>\n",
       "      <td>6.440000</td>\n",
       "    </tr>\n",
       "    <tr>\n",
       "      <th>George Lucas</th>\n",
       "      <td>7</td>\n",
       "      <td>3341.550893</td>\n",
       "      <td>6.814286</td>\n",
       "    </tr>\n",
       "  </tbody>\n",
       "</table>\n",
       "</div>"
      ],
      "text/plain": [
       "                   title  revenue_musd  vote_average\n",
       "director                                            \n",
       "Steven Spielberg      33   9256.621422      6.893939\n",
       "Peter Jackson         13   6528.244659      7.138462\n",
       "Michael Bay           13   6437.466781      6.392308\n",
       "James Cameron         11   5900.610310      6.927273\n",
       "David Yates            9   5334.563196      6.700000\n",
       "Christopher Nolan     11   4747.408665      7.618182\n",
       "Robert Zemeckis       19   4138.233542      6.794737\n",
       "Tim Burton            21   4032.916124      6.733333\n",
       "Ridley Scott          24   3917.529240      6.604167\n",
       "Chris Columbus        15   3866.836869      6.440000\n",
       "Roland Emmerich       16   3798.402596      5.750000\n",
       "Ron Howard            26   3714.152341      6.480769\n",
       "J.J. Abrams            5   3579.215315      7.080000\n",
       "Gore Verbinski        10   3575.339236      6.440000\n",
       "George Lucas           7   3341.550893      6.814286"
      ]
     },
     "execution_count": 25,
     "metadata": {},
     "output_type": "execute_result"
    }
   ],
   "source": [
    "movies_by_director = movies_data.groupby('director').agg({'title':'count','revenue_musd':'sum','vote_average':'mean'})\n",
    "movies_by_director.nlargest(15,['revenue_musd','vote_average'])"
   ]
  },
  {
   "cell_type": "markdown",
   "metadata": {},
   "source": [
    "## Most Successful Actors"
   ]
  },
  {
   "cell_type": "code",
   "execution_count": 26,
   "metadata": {},
   "outputs": [
    {
     "data": {
      "text/plain": [
       "id\n",
       "862       Tom Hanks|Tim Allen|Don Rickles|Jim Varney|Wal...\n",
       "8844      Robin Williams|Jonathan Hyde|Kirsten Dunst|Bra...\n",
       "15602     Walter Matthau|Jack Lemmon|Ann-Margret|Sophia ...\n",
       "31357     Whitney Houston|Angela Bassett|Loretta Devine|...\n",
       "11862     Steve Martin|Diane Keaton|Martin Short|Kimberl...\n",
       "                                ...                        \n",
       "439050              Leila Hatami|Kourosh Tahami|Elham Korda\n",
       "111109    Angel Aquino|Perry Dizon|Hazel Orencio|Joel To...\n",
       "67758     Erika Eleniak|Adam Baldwin|Julie du Page|James...\n",
       "227506    Iwan Mosschuchin|Nathalie Lissenko|Pavel Pavlo...\n",
       "461257                                                  NaN\n",
       "Name: cast, Length: 44691, dtype: object"
      ]
     },
     "execution_count": 26,
     "metadata": {},
     "output_type": "execute_result"
    }
   ],
   "source": [
    "movies_data.cast"
   ]
  },
  {
   "cell_type": "code",
   "execution_count": 29,
   "metadata": {},
   "outputs": [
    {
     "data": {
      "text/html": [
       "<div>\n",
       "<style scoped>\n",
       "    .dataframe tbody tr th:only-of-type {\n",
       "        vertical-align: middle;\n",
       "    }\n",
       "\n",
       "    .dataframe tbody tr th {\n",
       "        vertical-align: top;\n",
       "    }\n",
       "\n",
       "    .dataframe thead th {\n",
       "        text-align: right;\n",
       "    }\n",
       "</style>\n",
       "<table border=\"1\" class=\"dataframe\">\n",
       "  <thead>\n",
       "    <tr style=\"text-align: right;\">\n",
       "      <th></th>\n",
       "      <th>0</th>\n",
       "      <th>1</th>\n",
       "      <th>2</th>\n",
       "      <th>3</th>\n",
       "      <th>4</th>\n",
       "      <th>5</th>\n",
       "      <th>6</th>\n",
       "      <th>7</th>\n",
       "      <th>8</th>\n",
       "      <th>9</th>\n",
       "      <th>...</th>\n",
       "      <th>303</th>\n",
       "      <th>304</th>\n",
       "      <th>305</th>\n",
       "      <th>306</th>\n",
       "      <th>307</th>\n",
       "      <th>308</th>\n",
       "      <th>309</th>\n",
       "      <th>310</th>\n",
       "      <th>311</th>\n",
       "      <th>312</th>\n",
       "    </tr>\n",
       "    <tr>\n",
       "      <th>id</th>\n",
       "      <th></th>\n",
       "      <th></th>\n",
       "      <th></th>\n",
       "      <th></th>\n",
       "      <th></th>\n",
       "      <th></th>\n",
       "      <th></th>\n",
       "      <th></th>\n",
       "      <th></th>\n",
       "      <th></th>\n",
       "      <th></th>\n",
       "      <th></th>\n",
       "      <th></th>\n",
       "      <th></th>\n",
       "      <th></th>\n",
       "      <th></th>\n",
       "      <th></th>\n",
       "      <th></th>\n",
       "      <th></th>\n",
       "      <th></th>\n",
       "      <th></th>\n",
       "    </tr>\n",
       "  </thead>\n",
       "  <tbody>\n",
       "    <tr>\n",
       "      <th>862</th>\n",
       "      <td>Tom Hanks</td>\n",
       "      <td>Tim Allen</td>\n",
       "      <td>Don Rickles</td>\n",
       "      <td>Jim Varney</td>\n",
       "      <td>Wallace Shawn</td>\n",
       "      <td>John Ratzenberger</td>\n",
       "      <td>Annie Potts</td>\n",
       "      <td>John Morris</td>\n",
       "      <td>Erik von Detten</td>\n",
       "      <td>Laurie Metcalf</td>\n",
       "      <td>...</td>\n",
       "      <td>None</td>\n",
       "      <td>None</td>\n",
       "      <td>None</td>\n",
       "      <td>None</td>\n",
       "      <td>None</td>\n",
       "      <td>None</td>\n",
       "      <td>None</td>\n",
       "      <td>None</td>\n",
       "      <td>None</td>\n",
       "      <td>None</td>\n",
       "    </tr>\n",
       "    <tr>\n",
       "      <th>8844</th>\n",
       "      <td>Robin Williams</td>\n",
       "      <td>Jonathan Hyde</td>\n",
       "      <td>Kirsten Dunst</td>\n",
       "      <td>Bradley Pierce</td>\n",
       "      <td>Bonnie Hunt</td>\n",
       "      <td>Bebe Neuwirth</td>\n",
       "      <td>David Alan Grier</td>\n",
       "      <td>Patricia Clarkson</td>\n",
       "      <td>Adam Hann-Byrd</td>\n",
       "      <td>Laura Bell Bundy</td>\n",
       "      <td>...</td>\n",
       "      <td>None</td>\n",
       "      <td>None</td>\n",
       "      <td>None</td>\n",
       "      <td>None</td>\n",
       "      <td>None</td>\n",
       "      <td>None</td>\n",
       "      <td>None</td>\n",
       "      <td>None</td>\n",
       "      <td>None</td>\n",
       "      <td>None</td>\n",
       "    </tr>\n",
       "    <tr>\n",
       "      <th>15602</th>\n",
       "      <td>Walter Matthau</td>\n",
       "      <td>Jack Lemmon</td>\n",
       "      <td>Ann-Margret</td>\n",
       "      <td>Sophia Loren</td>\n",
       "      <td>Daryl Hannah</td>\n",
       "      <td>Burgess Meredith</td>\n",
       "      <td>Kevin Pollak</td>\n",
       "      <td>None</td>\n",
       "      <td>None</td>\n",
       "      <td>None</td>\n",
       "      <td>...</td>\n",
       "      <td>None</td>\n",
       "      <td>None</td>\n",
       "      <td>None</td>\n",
       "      <td>None</td>\n",
       "      <td>None</td>\n",
       "      <td>None</td>\n",
       "      <td>None</td>\n",
       "      <td>None</td>\n",
       "      <td>None</td>\n",
       "      <td>None</td>\n",
       "    </tr>\n",
       "    <tr>\n",
       "      <th>31357</th>\n",
       "      <td>Whitney Houston</td>\n",
       "      <td>Angela Bassett</td>\n",
       "      <td>Loretta Devine</td>\n",
       "      <td>Lela Rochon</td>\n",
       "      <td>Gregory Hines</td>\n",
       "      <td>Dennis Haysbert</td>\n",
       "      <td>Michael Beach</td>\n",
       "      <td>Mykelti Williamson</td>\n",
       "      <td>Lamont Johnson</td>\n",
       "      <td>Wesley Snipes</td>\n",
       "      <td>...</td>\n",
       "      <td>None</td>\n",
       "      <td>None</td>\n",
       "      <td>None</td>\n",
       "      <td>None</td>\n",
       "      <td>None</td>\n",
       "      <td>None</td>\n",
       "      <td>None</td>\n",
       "      <td>None</td>\n",
       "      <td>None</td>\n",
       "      <td>None</td>\n",
       "    </tr>\n",
       "    <tr>\n",
       "      <th>11862</th>\n",
       "      <td>Steve Martin</td>\n",
       "      <td>Diane Keaton</td>\n",
       "      <td>Martin Short</td>\n",
       "      <td>Kimberly Williams-Paisley</td>\n",
       "      <td>George Newbern</td>\n",
       "      <td>Kieran Culkin</td>\n",
       "      <td>BD Wong</td>\n",
       "      <td>Peter Michael Goetz</td>\n",
       "      <td>Kate McGregor-Stewart</td>\n",
       "      <td>Jane Adams</td>\n",
       "      <td>...</td>\n",
       "      <td>None</td>\n",
       "      <td>None</td>\n",
       "      <td>None</td>\n",
       "      <td>None</td>\n",
       "      <td>None</td>\n",
       "      <td>None</td>\n",
       "      <td>None</td>\n",
       "      <td>None</td>\n",
       "      <td>None</td>\n",
       "      <td>None</td>\n",
       "    </tr>\n",
       "  </tbody>\n",
       "</table>\n",
       "<p>5 rows × 313 columns</p>\n",
       "</div>"
      ],
      "text/plain": [
       "                   0               1               2    \\\n",
       "id                                                       \n",
       "862          Tom Hanks       Tim Allen     Don Rickles   \n",
       "8844    Robin Williams   Jonathan Hyde   Kirsten Dunst   \n",
       "15602   Walter Matthau     Jack Lemmon     Ann-Margret   \n",
       "31357  Whitney Houston  Angela Bassett  Loretta Devine   \n",
       "11862     Steve Martin    Diane Keaton    Martin Short   \n",
       "\n",
       "                             3               4                  5    \\\n",
       "id                                                                    \n",
       "862                   Jim Varney   Wallace Shawn  John Ratzenberger   \n",
       "8844              Bradley Pierce     Bonnie Hunt      Bebe Neuwirth   \n",
       "15602               Sophia Loren    Daryl Hannah   Burgess Meredith   \n",
       "31357                Lela Rochon   Gregory Hines    Dennis Haysbert   \n",
       "11862  Kimberly Williams-Paisley  George Newbern      Kieran Culkin   \n",
       "\n",
       "                    6                    7                      8    \\\n",
       "id                                                                    \n",
       "862         Annie Potts          John Morris        Erik von Detten   \n",
       "8844   David Alan Grier    Patricia Clarkson         Adam Hann-Byrd   \n",
       "15602      Kevin Pollak                 None                   None   \n",
       "31357     Michael Beach   Mykelti Williamson         Lamont Johnson   \n",
       "11862           BD Wong  Peter Michael Goetz  Kate McGregor-Stewart   \n",
       "\n",
       "                    9    ...   303   304   305   306   307   308   309   310  \\\n",
       "id                       ...                                                   \n",
       "862      Laurie Metcalf  ...  None  None  None  None  None  None  None  None   \n",
       "8844   Laura Bell Bundy  ...  None  None  None  None  None  None  None  None   \n",
       "15602              None  ...  None  None  None  None  None  None  None  None   \n",
       "31357     Wesley Snipes  ...  None  None  None  None  None  None  None  None   \n",
       "11862        Jane Adams  ...  None  None  None  None  None  None  None  None   \n",
       "\n",
       "        311   312  \n",
       "id                 \n",
       "862    None  None  \n",
       "8844   None  None  \n",
       "15602  None  None  \n",
       "31357  None  None  \n",
       "11862  None  None  \n",
       "\n",
       "[5 rows x 313 columns]"
      ]
     },
     "execution_count": 29,
     "metadata": {},
     "output_type": "execute_result"
    }
   ],
   "source": [
    "actors = movies_data.cast.str.split(\"|\",expand=True)\n",
    "actors.head()"
   ]
  },
  {
   "cell_type": "code",
   "execution_count": 30,
   "metadata": {},
   "outputs": [
    {
     "name": "stdout",
     "output_type": "stream",
     "text": [
      "<class 'pandas.core.frame.DataFrame'>\n",
      "Int64Index: 44691 entries, 862 to 461257\n",
      "Columns: 313 entries, 0 to 312\n",
      "dtypes: object(313)\n",
      "memory usage: 107.1+ MB\n"
     ]
    }
   ],
   "source": [
    "actors.info()"
   ]
  },
  {
   "cell_type": "code",
   "execution_count": 36,
   "metadata": {},
   "outputs": [
    {
     "data": {
      "text/plain": [
       "pandas.core.series.Series"
      ]
     },
     "execution_count": 36,
     "metadata": {},
     "output_type": "execute_result"
    }
   ],
   "source": [
    "actors_stk = actors.stack().reset_index(level=1,drop=True)\n",
    "type(actors_stk)"
   ]
  },
  {
   "cell_type": "code",
   "execution_count": 43,
   "metadata": {},
   "outputs": [],
   "source": [
    "actors_df = actors_stk.to_frame()\n",
    "actors_df.columns=['actor']"
   ]
  },
  {
   "cell_type": "code",
   "execution_count": 44,
   "metadata": {},
   "outputs": [],
   "source": [
    "movie_actors = pd.merge(movies_data[['title','revenue_musd','budget_musd','vote_average','popularity','vote_count']],\n",
    "                        actors_df,\n",
    "                       how=\"left\",\n",
    "                       left_index=True,\n",
    "                       right_index=True)"
   ]
  },
  {
   "cell_type": "code",
   "execution_count": 45,
   "metadata": {},
   "outputs": [
    {
     "data": {
      "text/html": [
       "<div>\n",
       "<style scoped>\n",
       "    .dataframe tbody tr th:only-of-type {\n",
       "        vertical-align: middle;\n",
       "    }\n",
       "\n",
       "    .dataframe tbody tr th {\n",
       "        vertical-align: top;\n",
       "    }\n",
       "\n",
       "    .dataframe thead th {\n",
       "        text-align: right;\n",
       "    }\n",
       "</style>\n",
       "<table border=\"1\" class=\"dataframe\">\n",
       "  <thead>\n",
       "    <tr style=\"text-align: right;\">\n",
       "      <th></th>\n",
       "      <th>title</th>\n",
       "      <th>revenue_musd</th>\n",
       "      <th>budget_musd</th>\n",
       "      <th>vote_average</th>\n",
       "      <th>popularity</th>\n",
       "      <th>vote_count</th>\n",
       "      <th>actor</th>\n",
       "    </tr>\n",
       "    <tr>\n",
       "      <th>id</th>\n",
       "      <th></th>\n",
       "      <th></th>\n",
       "      <th></th>\n",
       "      <th></th>\n",
       "      <th></th>\n",
       "      <th></th>\n",
       "      <th></th>\n",
       "    </tr>\n",
       "  </thead>\n",
       "  <tbody>\n",
       "    <tr>\n",
       "      <th>2</th>\n",
       "      <td>Ariel</td>\n",
       "      <td>NaN</td>\n",
       "      <td>NaN</td>\n",
       "      <td>7.1</td>\n",
       "      <td>3.860491</td>\n",
       "      <td>44.0</td>\n",
       "      <td>Turo Pajala</td>\n",
       "    </tr>\n",
       "    <tr>\n",
       "      <th>2</th>\n",
       "      <td>Ariel</td>\n",
       "      <td>NaN</td>\n",
       "      <td>NaN</td>\n",
       "      <td>7.1</td>\n",
       "      <td>3.860491</td>\n",
       "      <td>44.0</td>\n",
       "      <td>Susanna Haavisto</td>\n",
       "    </tr>\n",
       "    <tr>\n",
       "      <th>2</th>\n",
       "      <td>Ariel</td>\n",
       "      <td>NaN</td>\n",
       "      <td>NaN</td>\n",
       "      <td>7.1</td>\n",
       "      <td>3.860491</td>\n",
       "      <td>44.0</td>\n",
       "      <td>Matti Pellonpää</td>\n",
       "    </tr>\n",
       "    <tr>\n",
       "      <th>2</th>\n",
       "      <td>Ariel</td>\n",
       "      <td>NaN</td>\n",
       "      <td>NaN</td>\n",
       "      <td>7.1</td>\n",
       "      <td>3.860491</td>\n",
       "      <td>44.0</td>\n",
       "      <td>Eetu Hilkamo</td>\n",
       "    </tr>\n",
       "    <tr>\n",
       "      <th>3</th>\n",
       "      <td>Shadows in Paradise</td>\n",
       "      <td>NaN</td>\n",
       "      <td>NaN</td>\n",
       "      <td>7.1</td>\n",
       "      <td>2.292110</td>\n",
       "      <td>35.0</td>\n",
       "      <td>Matti Pellonpää</td>\n",
       "    </tr>\n",
       "  </tbody>\n",
       "</table>\n",
       "</div>"
      ],
      "text/plain": [
       "                  title  revenue_musd  budget_musd  vote_average  popularity  \\\n",
       "id                                                                             \n",
       "2                 Ariel           NaN          NaN           7.1    3.860491   \n",
       "2                 Ariel           NaN          NaN           7.1    3.860491   \n",
       "2                 Ariel           NaN          NaN           7.1    3.860491   \n",
       "2                 Ariel           NaN          NaN           7.1    3.860491   \n",
       "3   Shadows in Paradise           NaN          NaN           7.1    2.292110   \n",
       "\n",
       "    vote_count             actor  \n",
       "id                                \n",
       "2         44.0       Turo Pajala  \n",
       "2         44.0  Susanna Haavisto  \n",
       "2         44.0   Matti Pellonpää  \n",
       "2         44.0      Eetu Hilkamo  \n",
       "3         35.0   Matti Pellonpää  "
      ]
     },
     "execution_count": 45,
     "metadata": {},
     "output_type": "execute_result"
    }
   ],
   "source": [
    "movie_actors.head()"
   ]
  },
  {
   "cell_type": "code",
   "execution_count": 64,
   "metadata": {},
   "outputs": [],
   "source": [
    "movie_actors_agg = movie_actors\\\n",
    "                   .groupby('actor')\\\n",
    "                   .agg(\n",
    "                      Total_Revenue=('revenue_musd','sum'),\n",
    "                      Mean_Revenue=('revenue_musd','mean'),\n",
    "                      Total_Movies=('actor','count'),\n",
    "                      Mean_Popular=('popularity','mean')\n",
    "                    )\n"
   ]
  },
  {
   "cell_type": "code",
   "execution_count": 70,
   "metadata": {},
   "outputs": [
    {
     "data": {
      "text/html": [
       "<div>\n",
       "<style scoped>\n",
       "    .dataframe tbody tr th:only-of-type {\n",
       "        vertical-align: middle;\n",
       "    }\n",
       "\n",
       "    .dataframe tbody tr th {\n",
       "        vertical-align: top;\n",
       "    }\n",
       "\n",
       "    .dataframe thead th {\n",
       "        text-align: right;\n",
       "    }\n",
       "</style>\n",
       "<table border=\"1\" class=\"dataframe\">\n",
       "  <thead>\n",
       "    <tr style=\"text-align: right;\">\n",
       "      <th></th>\n",
       "      <th>Total_Revenue</th>\n",
       "      <th>Mean_Revenue</th>\n",
       "      <th>Total_Movies</th>\n",
       "      <th>Mean_Popular</th>\n",
       "    </tr>\n",
       "    <tr>\n",
       "      <th>actor</th>\n",
       "      <th></th>\n",
       "      <th></th>\n",
       "      <th></th>\n",
       "      <th></th>\n",
       "    </tr>\n",
       "  </thead>\n",
       "  <tbody>\n",
       "    <tr>\n",
       "      <th>Stan Lee</th>\n",
       "      <td>19414.957555</td>\n",
       "      <td>647.165252</td>\n",
       "      <td>48</td>\n",
       "      <td>29.936175</td>\n",
       "    </tr>\n",
       "    <tr>\n",
       "      <th>Samuel L. Jackson</th>\n",
       "      <td>17109.620672</td>\n",
       "      <td>213.870258</td>\n",
       "      <td>122</td>\n",
       "      <td>11.703945</td>\n",
       "    </tr>\n",
       "    <tr>\n",
       "      <th>Warwick Davis</th>\n",
       "      <td>13256.032188</td>\n",
       "      <td>662.801609</td>\n",
       "      <td>34</td>\n",
       "      <td>13.088614</td>\n",
       "    </tr>\n",
       "    <tr>\n",
       "      <th>Frank Welker</th>\n",
       "      <td>13044.152470</td>\n",
       "      <td>326.103812</td>\n",
       "      <td>107</td>\n",
       "      <td>9.571404</td>\n",
       "    </tr>\n",
       "    <tr>\n",
       "      <th>John Ratzenberger</th>\n",
       "      <td>12596.126073</td>\n",
       "      <td>449.861645</td>\n",
       "      <td>46</td>\n",
       "      <td>10.959477</td>\n",
       "    </tr>\n",
       "    <tr>\n",
       "      <th>Jess Harnell</th>\n",
       "      <td>12234.608163</td>\n",
       "      <td>611.730408</td>\n",
       "      <td>35</td>\n",
       "      <td>10.919015</td>\n",
       "    </tr>\n",
       "    <tr>\n",
       "      <th>Hugo Weaving</th>\n",
       "      <td>11027.578473</td>\n",
       "      <td>459.482436</td>\n",
       "      <td>40</td>\n",
       "      <td>10.967890</td>\n",
       "    </tr>\n",
       "    <tr>\n",
       "      <th>Ian McKellen</th>\n",
       "      <td>11015.592318</td>\n",
       "      <td>478.938796</td>\n",
       "      <td>44</td>\n",
       "      <td>15.447180</td>\n",
       "    </tr>\n",
       "    <tr>\n",
       "      <th>Johnny Depp</th>\n",
       "      <td>10653.760641</td>\n",
       "      <td>217.423687</td>\n",
       "      <td>69</td>\n",
       "      <td>12.378196</td>\n",
       "    </tr>\n",
       "    <tr>\n",
       "      <th>Alan Rickman</th>\n",
       "      <td>10612.625348</td>\n",
       "      <td>353.754178</td>\n",
       "      <td>45</td>\n",
       "      <td>10.399285</td>\n",
       "    </tr>\n",
       "  </tbody>\n",
       "</table>\n",
       "</div>"
      ],
      "text/plain": [
       "                   Total_Revenue  Mean_Revenue  Total_Movies  Mean_Popular\n",
       "actor                                                                     \n",
       "Stan Lee            19414.957555    647.165252            48     29.936175\n",
       "Samuel L. Jackson   17109.620672    213.870258           122     11.703945\n",
       "Warwick Davis       13256.032188    662.801609            34     13.088614\n",
       "Frank Welker        13044.152470    326.103812           107      9.571404\n",
       "John Ratzenberger   12596.126073    449.861645            46     10.959477\n",
       "Jess Harnell        12234.608163    611.730408            35     10.919015\n",
       "Hugo Weaving        11027.578473    459.482436            40     10.967890\n",
       "Ian McKellen        11015.592318    478.938796            44     15.447180\n",
       "Johnny Depp         10653.760641    217.423687            69     12.378196\n",
       "Alan Rickman        10612.625348    353.754178            45     10.399285"
      ]
     },
     "execution_count": 70,
     "metadata": {},
     "output_type": "execute_result"
    }
   ],
   "source": [
    "movie_actors_agg.loc[movie_actors_agg.Total_Movies > 9].nlargest(10,'Total_Revenue')"
   ]
  },
  {
   "cell_type": "code",
   "execution_count": null,
   "metadata": {},
   "outputs": [],
   "source": []
  }
 ],
 "metadata": {
  "kernelspec": {
   "display_name": "Python 3 (ipykernel)",
   "language": "python",
   "name": "python3"
  },
  "language_info": {
   "codemirror_mode": {
    "name": "ipython",
    "version": 3
   },
   "file_extension": ".py",
   "mimetype": "text/x-python",
   "name": "python",
   "nbconvert_exporter": "python",
   "pygments_lexer": "ipython3",
   "version": "3.10.9"
  }
 },
 "nbformat": 4,
 "nbformat_minor": 2
}
